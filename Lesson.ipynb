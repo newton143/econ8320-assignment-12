{
  "cells": [
    {
      "cell_type": "markdown",
      "metadata": {
        "id": "pxIb-S9szaAw"
      },
      "source": [
        "# Natural Language Processing\n",
        "\n",
        "\n",
        "## Defining Natural Language Processing\n",
        "\n",
        "As we continue further into our content this semester, you have probably noticed that each tool takes us to a new level of being able to conduct analysis with less code. As we progress, we move toward what are called \"higher level\" programming tools. Python itself is a high-level programming language, meaning that it is written in a way that is easier for humans to read than computers, with lots of translation happening behind the scenes.\n",
        "\n",
        "Tools like `pandas` remove a lot of the manual work from data processing. `numpy` and `scipy` handle much of the mathematical and statistical work that we want to do with our data. Natural Language Processing (NLP) is a tool similar to regex, but allowing us to take our text analytics to entirely new levels.\n",
        "\n",
        "Where regex allows us to look for text-based patterns in our words or string content, we want to go further. We want to look for **meaning**-based content. How do I find content that reflects anger? What words are most common in those contexts? What about when the content reflects joy? Sadness? Regex is not enough in these cases, and so we build to an even more powerful tool.\n",
        "\n",
        "NLP is a broad set of tools designed in order to enable users to work with text in ways that a human might work with text. When we work with text, we look for structures like sentences, and within those sentences we look for nouns to tell us who or what is the focus of the content. We look for verbs to understand what is happening. Adjectives and other descriptors help us to better understand the nuances of context. NLP models are trained to recognize these elements in text, and to be able to leverage that content to break text down and provide human users valuable information at a larger scale than would be possible if the document were simply read (slowly) by a human.\n",
        "\n",
        "| Regex | NLP |\n",
        "| --- | --- |\n",
        "| Create patterns to match in text | Identify the structure of text and use that to refine information|\n",
        "| Used to verify or find data | Used to analyze data |\n",
        "| Applies user-defined rules | Relies heavily on ML-based (or other) models |\n",
        "\n",
        "\n",
        "## What NLP can do\n",
        "\n",
        "So what can NLP do for us?\n",
        "\n",
        "### Identify parts of speech\n",
        "\n",
        "When we pass a document (really a string, but typically we provide a fairly large string to an NLP algorithm) to an NLP model, it is able to identify parts of speech (nouns, verbs, etc.). This enables us to quickly break down our text to find various kinds of keywords, and is the first step in many more complex pipelines.\n",
        "\n",
        "### Iterate over sentences\n",
        "\n",
        "NLP can identify sentences within a document. This makes for a powerful iterative tool, as we will be able to define a processing pipeline for each sentence, and then apply that pipeline to as many sentences as exist within our document, without having to write complex code to try and recognize where each sentence starts and ends (this is MUCH harder than it sounds).\n",
        "\n",
        "### Find words used to describe various nouns (or anything else!)\n",
        "\n",
        "Beyond simply identifying parts of speech, NLP models can be used to build a structural dependency tree of each sentence. This structure allows us to associate adjectives with their respective nouns, or adverbs to the verb that they modify. We can explore how various entities are described in our document based on word associations. We can even visualize the structure of the sentence using simple mapping functions.\n",
        "\n",
        "### Filter text for analysis\n",
        "\n",
        "We can use NLP to filter our text. We can look for sentences about a specific entity, or explore other ways of filtering our text in order to create a better understanding of overall patterns in the document.\n",
        "\n",
        "### Conduct sentiment analysis\n",
        "\n",
        "One of the most powerful capabilities resulting from NLP models is the ability to analyze sentiment within the text. Words have the ability to convey literal meanings, as well as the more subtle capacity to convey emotion. By looking for word combinations in our text, NLP models can provide sentiment measurements at the word, sentence, or document level. This provides the ability to sort through texts for specific sentiments to learn about the way in which emotion affects the outcomes we are examining in text. One example might be looking through descriptions for negative emotions, and being able to respond to unhappy customers by flagging negative descriptions.\n",
        "\n",
        "\n",
        "## Implementing NLP models\n",
        "\n",
        "To get started with NLP models, we need to install the right libraries (and a corpus!). The library that we will use is `spacy`, although there are multiple other options available to us. One other common NLP library is `nltk`, the Natural Language Toolkit (NLTK). In my experience NLTK is more commonly employed when someone wants to create their own model from scratch, rather than implement pre-built and optimized NLP models.\n",
        "\n",
        "In addition to a library to conduct NLP, we also rely on a **corpus**. A corpus is essentially a model of a specific language that is built to enable the actual analysis. `spacy` as a library is a general structure that can be implemented on ANY language. The corpus allows us to select a specific language, and a model of that language built on a specific set of information.\n",
        "\n",
        "When we install `spacy`, we will also download the `en_core_web_sm` corpus. This corpus is a small-sized model of the english language, and was trained on web-based data. That means that it will perform best on data drawn from websites, and is not as strong a model for other contexts (like analyzing Pride and Prejudice). That doesn't mean that we can't use in other contexts, but it does suggest that results will not be as refined or accurate."
      ]
    },
    {
      "cell_type": "markdown",
      "metadata": {
        "id": "ZVunEbPwzaA0"
      },
      "source": [
        "We need to get ourselves some text to analyze before we jump into the NLP world. In true form, here is another favorite old book. We will take a look at the first three chapters of Jane Eyre from [Project Gutenberg](https://www.gutenberg.org/browse/scores/top)."
      ]
    },
    {
      "cell_type": "code",
      "execution_count": 1,
      "metadata": {
        "id": "oD-vrOGwzaA0"
      },
      "outputs": [],
      "source": [
        "import requests\n",
        "\n",
        "jane = requests.get(\n",
        "\"https://github.com/dustywhite7/Econ8320/raw/master/AssignmentData/janeEyreCh1to3.txt\"\n",
        ").text"
      ]
    },
    {
      "cell_type": "code",
      "source": [
        "jane"
      ],
      "metadata": {
        "colab": {
          "base_uri": "https://localhost:8080/",
          "height": 122
        },
        "id": "zIFqDO6sziCO",
        "outputId": "4aad94d0-2f1a-44e4-bab0-e34cb1c4f8b4"
      },
      "execution_count": 2,
      "outputs": [
        {
          "output_type": "execute_result",
          "data": {
            "text/plain": [
              "'CHAPTER I\\n\\n\\nThere was no possibility of taking a walk that day. We had been\\nwandering, indeed, in the leafless shrubbery an hour in the morning;\\nbut since dinner (Mrs. Reed, when there was no company, dined early)\\nthe cold winter wind had brought with it clouds so sombre, and a rain\\nso penetrating, that further outdoor exercise was now out of the\\nquestion.\\n\\nI was glad of it: I never liked long walks, especially on chilly\\nafternoons: dreadful to me was the coming home in the raw twilight,\\nwith nipped fingers and toes, and a heart saddened by the chidings of\\nBessie, the nurse, and humbled by the consciousness of my physical\\ninferiority to Eliza, John, and Georgiana Reed.\\n\\nThe said Eliza, John, and Georgiana were now clustered round their mama\\nin the drawing-room: she lay reclined on a sofa by the fireside, and\\nwith her darlings about her (for the time neither quarrelling nor\\ncrying) looked perfectly happy. Me, she had dispensed from joining the\\ngroup; saying, “She regretted to be under the necessity of keeping me\\nat a distance; but that until she heard from Bessie, and could discover\\nby her own observation, that I was endeavouring in good earnest to\\nacquire a more sociable and childlike disposition, a more attractive\\nand sprightly manner—something lighter, franker, more natural, as it\\nwere—she really must exclude me from privileges intended only for\\ncontented, happy, little children.”\\n\\n“What does Bessie say I have done?” I asked.\\n\\n“Jane, I don’t like cavillers or questioners; besides, there is\\nsomething truly forbidding in a child taking up her elders in that\\nmanner. Be seated somewhere; and until you can speak pleasantly, remain\\nsilent.”\\n\\nA breakfast-room adjoined the drawing-room, I slipped in there. It\\ncontained a bookcase: I soon possessed myself of a volume, taking care\\nthat it should be one stored with pictures. I mounted into the\\nwindow-seat: gathering up my feet, I sat cross-legged, like a Turk;\\nand, having drawn the red moreen curtain nearly close, I was shrined in\\ndouble retirement.\\n\\nFolds of scarlet drapery shut in my view to the right hand; to the left\\nwere the clear panes of glass, protecting, but not separating me from\\nthe drear November day. At intervals, while turning over the leaves of\\nmy book, I studied the aspect of that winter afternoon. Afar, it\\noffered a pale blank of mist and cloud; near a scene of wet lawn and\\nstorm-beat shrub, with ceaseless rain sweeping away wildly before a\\nlong and lamentable blast.\\n\\nI returned to my book—Bewick’s History of British Birds: the\\nletterpress thereof I cared little for, generally speaking; and yet\\nthere were certain introductory pages that, child as I was, I could not\\npass quite as a blank. They were those which treat of the haunts of\\nsea-fowl; of “the solitary rocks and promontories” by them only\\ninhabited; of the coast of Norway, studded with isles from its southern\\nextremity, the Lindeness, or Naze, to the North Cape—\\n\\n“Where the Northern Ocean, in vast whirls,\\nBoils round the naked, melancholy isles\\nOf farthest Thule; and the Atlantic surge\\nPours in among the stormy Hebrides.”\\n\\n\\nNor could I pass unnoticed the suggestion of the bleak shores of\\nLapland, Siberia, Spitzbergen, Nova Zembla, Iceland, Greenland, with\\n“the vast sweep of the Arctic Zone, and those forlorn regions of dreary\\nspace,—that reservoir of frost and snow, where firm fields of ice, the\\naccumulation of centuries of winters, glazed in Alpine heights above\\nheights, surround the pole, and concentre the multiplied rigours of\\nextreme cold.” Of these death-white realms I formed an idea of my own:\\nshadowy, like all the half-comprehended notions that float dim through\\nchildren’s brains, but strangely impressive. The words in these\\nintroductory pages connected themselves with the succeeding vignettes,\\nand gave significance to the rock standing up alone in a sea of billow\\nand spray; to the broken boat stranded on a desolate coast; to the cold\\nand ghastly moon glancing through bars of cloud at a wreck just\\nsinking.\\n\\nI cannot tell what sentiment haunted the quite solitary churchyard,\\nwith its inscribed headstone; its gate, its two trees, its low horizon,\\ngirdled by a broken wall, and its newly-risen crescent, attesting the\\nhour of eventide.\\n\\nThe two ships becalmed on a torpid sea, I believed to be marine\\nphantoms.\\n\\nThe fiend pinning down the thief’s pack behind him, I passed over\\nquickly: it was an object of terror.\\n\\nSo was the black horned thing seated aloof on a rock, surveying a\\ndistant crowd surrounding a gallows.\\n\\nEach picture told a story; mysterious often to my undeveloped\\nunderstanding and imperfect feelings, yet ever profoundly interesting:\\nas interesting as the tales Bessie sometimes narrated on winter\\nevenings, when she chanced to be in good humour; and when, having\\nbrought her ironing-table to the nursery hearth, she allowed us to sit\\nabout it, and while she got up Mrs. Reed’s lace frills, and crimped her\\nnightcap borders, fed our eager attention with passages of love and\\nadventure taken from old fairy tales and other ballads; or (as at a\\nlater period I discovered) from the pages of Pamela, and Henry, Earl of\\nMoreland.\\n\\nWith Bewick on my knee, I was then happy: happy at least in my way. I\\nfeared nothing but interruption, and that came too soon. The\\nbreakfast-room door opened.\\n\\n“Boh! Madam Mope!” cried the voice of John Reed; then he paused: he\\nfound the room apparently empty.\\n\\n“Where the dickens is she!” he continued. “Lizzy! Georgy! (calling to\\nhis sisters) Joan is not here: tell mama she is run out into the\\nrain—bad animal!”\\n\\n“It is well I drew the curtain,” thought I; and I wished fervently he\\nmight not discover my hiding-place: nor would John Reed have found it\\nout himself; he was not quick either of vision or conception; but Eliza\\njust put her head in at the door, and said at once—\\n\\n“She is in the window-seat, to be sure, Jack.”\\n\\nAnd I came out immediately, for I trembled at the idea of being dragged\\nforth by the said Jack.\\n\\n“What do you want?” I asked, with awkward diffidence.\\n\\n“Say, ‘What do you want, Master Reed?’” was the answer. “I want you to\\ncome here;” and seating himself in an arm-chair, he intimated by a\\ngesture that I was to approach and stand before him.\\n\\nJohn Reed was a schoolboy of fourteen years old; four years older than\\nI, for I was but ten: large and stout for his age, with a dingy and\\nunwholesome skin; thick lineaments in a spacious visage, heavy limbs\\nand large extremities. He gorged himself habitually at table, which\\nmade him bilious, and gave him a dim and bleared eye and flabby cheeks.\\nHe ought now to have been at school; but his mama had taken him home\\nfor a month or two, “on account of his delicate health.” Mr. Miles, the\\nmaster, affirmed that he would do very well if he had fewer cakes and\\nsweetmeats sent him from home; but the mother’s heart turned from an\\nopinion so harsh, and inclined rather to the more refined idea that\\nJohn’s sallowness was owing to over-application and, perhaps, to pining\\nafter home.\\n\\nJohn had not much affection for his mother and sisters, and an\\nantipathy to me. He bullied and punished me; not two or three times in\\nthe week, nor once or twice in the day, but continually: every nerve I\\nhad feared him, and every morsel of flesh in my bones shrank when he\\ncame near. There were moments when I was bewildered by the terror he\\ninspired, because I had no appeal whatever against either his menaces\\nor his inflictions; the servants did not like to offend their young\\nmaster by taking my part against him, and Mrs. Reed was blind and deaf\\non the subject: she never saw him strike or heard him abuse me, though\\nhe did both now and then in her very presence, more frequently,\\nhowever, behind her back.\\n\\nHabitually obedient to John, I came up to his chair: he spent some\\nthree minutes in thrusting out his tongue at me as far as he could\\nwithout damaging the roots: I knew he would soon strike, and while\\ndreading the blow, I mused on the disgusting and ugly appearance of him\\nwho would presently deal it. I wonder if he read that notion in my\\nface; for, all at once, without speaking, he struck suddenly and\\nstrongly. I tottered, and on regaining my equilibrium retired back a\\nstep or two from his chair.\\n\\n“That is for your impudence in answering mama awhile since,” said he,\\n“and for your sneaking way of getting behind curtains, and for the look\\nyou had in your eyes two minutes since, you rat!”\\n\\nAccustomed to John Reed’s abuse, I never had an idea of replying to it;\\nmy care was how to endure the blow which would certainly follow the\\ninsult.\\n\\n“What were you doing behind the curtain?” he asked.\\n\\n“I was reading.”\\n\\n“Show the book.”\\n\\nI returned to the window and fetched it thence.\\n\\n“You have no business to take our books; you are a dependent, mama\\nsays; you have no money; your father left you none; you ought to beg,\\nand not to live here with gentlemen’s children like us, and eat the\\nsame meals we do, and wear clothes at our mama’s expense. Now, I’ll\\nteach you to rummage my bookshelves: for they _are_ mine; all the house\\nbelongs to me, or will do in a few years. Go and stand by the door, out\\nof the way of the mirror and the windows.”\\n\\nI did so, not at first aware what was his intention; but when I saw him\\nlift and poise the book and stand in act to hurl it, I instinctively\\nstarted aside with a cry of alarm: not soon enough, however; the volume\\nwas flung, it hit me, and I fell, striking my head against the door and\\ncutting it. The cut bled, the pain was sharp: my terror had passed its\\nclimax; other feelings succeeded.\\n\\n“Wicked and cruel boy!” I said. “You are like a murderer—you are like a\\nslave-driver—you are like the Roman emperors!”\\n\\nI had read Goldsmith’s History of Rome, and had formed my opinion of\\nNero, Caligula, &c. Also I had drawn parallels in silence, which I\\nnever thought thus to have declared aloud.\\n\\n“What! what!” he cried. “Did she say that to me? Did you hear her,\\nEliza and Georgiana? Won’t I tell mama? but first—”\\n\\nHe ran headlong at me: I felt him grasp my hair and my shoulder: he had\\nclosed with a desperate thing. I really saw in him a tyrant, a\\nmurderer. I felt a drop or two of blood from my head trickle down my\\nneck, and was sensible of somewhat pungent suffering: these sensations\\nfor the time predominated over fear, and I received him in frantic\\nsort. I don’t very well know what I did with my hands, but he called me\\n“Rat! Rat!” and bellowed out aloud. Aid was near him: Eliza and\\nGeorgiana had run for Mrs. Reed, who was gone upstairs: she now came\\nupon the scene, followed by Bessie and her maid Abbot. We were parted:\\nI heard the words—\\n\\n“Dear! dear! What a fury to fly at Master John!”\\n\\n“Did ever anybody see such a picture of passion!”\\n\\nThen Mrs. Reed subjoined—\\n\\n“Take her away to the red-room, and lock her in there.” Four hands were\\nimmediately laid upon me, and I was borne upstairs.\\n\\n\\n\\n\\nCHAPTER II\\n\\n\\nI resisted all the way: a new thing for me, and a circumstance which\\ngreatly strengthened the bad opinion Bessie and Miss Abbot were\\ndisposed to entertain of me. The fact is, I was a trifle beside myself;\\nor rather _out_ of myself, as the French would say: I was conscious\\nthat a moment’s mutiny had already rendered me liable to strange\\npenalties, and, like any other rebel slave, I felt resolved, in my\\ndesperation, to go all lengths.\\n\\n“Hold her arms, Miss Abbot: she’s like a mad cat.”\\n\\n“For shame! for shame!” cried the lady’s-maid. “What shocking conduct,\\nMiss Eyre, to strike a young gentleman, your benefactress’s son! Your\\nyoung master.”\\n\\n“Master! How is he my master? Am I a servant?”\\n\\n“No; you are less than a servant, for you do nothing for your keep.\\nThere, sit down, and think over your wickedness.”\\n\\nThey had got me by this time into the apartment indicated by Mrs. Reed,\\nand had thrust me upon a stool: my impulse was to rise from it like a\\nspring; their two pair of hands arrested me instantly.\\n\\n“If you don’t sit still, you must be tied down,” said Bessie. “Miss\\nAbbot, lend me your garters; she would break mine directly.”\\n\\nMiss Abbot turned to divest a stout leg of the necessary ligature. This\\npreparation for bonds, and the additional ignominy it inferred, took a\\nlittle of the excitement out of me.\\n\\n“Don’t take them off,” I cried; “I will not stir.”\\n\\nIn guarantee whereof, I attached myself to my seat by my hands.\\n\\n“Mind you don’t,” said Bessie; and when she had ascertained that I was\\nreally subsiding, she loosened her hold of me; then she and Miss Abbot\\nstood with folded arms, looking darkly and doubtfully on my face, as\\nincredulous of my sanity.\\n\\n“She never did so before,” at last said Bessie, turning to the Abigail.\\n\\n“But it was always in her,” was the reply. “I’ve told Missis often my\\nopinion about the child, and Missis agreed with me. She’s an underhand\\nlittle thing: I never saw a girl of her age with so much cover.”\\n\\nBessie answered not; but ere long, addressing me, she said—\\n\\n“You ought to be aware, Miss, that you are under obligations to Mrs.\\nReed: she keeps you: if she were to turn you off, you would have to go\\nto the poorhouse.”\\n\\nI had nothing to say to these words: they were not new to me: my very\\nfirst recollections of existence included hints of the same kind. This\\nreproach of my dependence had become a vague sing-song in my ear: very\\npainful and crushing, but only half intelligible. Miss Abbot joined in—\\n\\n“And you ought not to think yourself on an equality with the Misses\\nReed and Master Reed, because Missis kindly allows you to be brought up\\nwith them. They will have a great deal of money, and you will have\\nnone: it is your place to be humble, and to try to make yourself\\nagreeable to them.”\\n\\n“What we tell you is for your good,” added Bessie, in no harsh voice,\\n“you should try to be useful and pleasant, then, perhaps, you would\\nhave a home here; but if you become passionate and rude, Missis will\\nsend you away, I am sure.”\\n\\n“Besides,” said Miss Abbot, “God will punish her: He might strike her\\ndead in the midst of her tantrums, and then where would she go? Come,\\nBessie, we will leave her: I wouldn’t have her heart for anything. Say\\nyour prayers, Miss Eyre, when you are by yourself; for if you don’t\\nrepent, something bad might be permitted to come down the chimney and\\nfetch you away.”\\n\\nThey went, shutting the door, and locking it behind them.\\n\\nThe red-room was a square chamber, very seldom slept in, I might say\\nnever, indeed, unless when a chance influx of visitors at Gateshead\\nHall rendered it necessary to turn to account all the accommodation it\\ncontained: yet it was one of the largest and stateliest chambers in the\\nmansion. A bed supported on massive pillars of mahogany, hung with\\ncurtains of deep red damask, stood out like a tabernacle in the centre;\\nthe two large windows, with their blinds always drawn down, were half\\nshrouded in festoons and falls of similar drapery; the carpet was red;\\nthe table at the foot of the bed was covered with a crimson cloth; the\\nwalls were a soft fawn colour with a blush of pink in it; the wardrobe,\\nthe toilet-table, the chairs were of darkly polished old mahogany. Out\\nof these deep surrounding shades rose high, and glared white, the\\npiled-up mattresses and pillows of the bed, spread with a snowy\\nMarseilles counterpane. Scarcely less prominent was an ample cushioned\\neasy-chair near the head of the bed, also white, with a footstool\\nbefore it; and looking, as I thought, like a pale throne.\\n\\nThis room was chill, because it seldom had a fire; it was silent,\\nbecause remote from the nursery and kitchen; solemn, because it was\\nknown to be so seldom entered. The house-maid alone came here on\\nSaturdays, to wipe from the mirrors and the furniture a week’s quiet\\ndust: and Mrs. Reed herself, at far intervals, visited it to review the\\ncontents of a certain secret drawer in the wardrobe, where were stored\\ndivers parchments, her jewel-casket, and a miniature of her deceased\\nhusband; and in those last words lies the secret of the red-room—the\\nspell which kept it so lonely in spite of its grandeur.\\n\\nMr. Reed had been dead nine years: it was in this chamber he breathed\\nhis last; here he lay in state; hence his coffin was borne by the\\nundertaker’s men; and, since that day, a sense of dreary consecration\\nhad guarded it from frequent intrusion.\\n\\nMy seat, to which Bessie and the bitter Miss Abbot had left me riveted,\\nwas a low ottoman near the marble chimney-piece; the bed rose before\\nme; to my right hand there was the high, dark wardrobe, with subdued,\\nbroken reflections varying the gloss of its panels; to my left were the\\nmuffled windows; a great looking-glass between them repeated the vacant\\nmajesty of the bed and room. I was not quite sure whether they had\\nlocked the door; and when I dared move, I got up and went to see. Alas!\\nyes: no jail was ever more secure. Returning, I had to cross before the\\nlooking-glass; my fascinated glance involuntarily explored the depth it\\nrevealed. All looked colder and darker in that visionary hollow than in\\nreality: and the strange little figure there gazing at me, with a white\\nface and arms specking the gloom, and glittering eyes of fear moving\\nwhere all else was still, had the effect of a real spirit: I thought it\\nlike one of the tiny phantoms, half fairy, half imp, Bessie’s evening\\nstories represented as coming out of lone, ferny dells in moors, and\\nappearing before the eyes of belated travellers. I returned to my\\nstool.\\n\\nSuperstition was with me at that moment; but it was not yet her hour\\nfor complete victory: my blood was still warm; the mood of the revolted\\nslave was still bracing me with its bitter vigour; I had to stem a\\nrapid rush of retrospective thought before I quailed to the dismal\\npresent.\\n\\nAll John Reed’s violent tyrannies, all his sisters’ proud indifference,\\nall his mother’s aversion, all the servants’ partiality, turned up in\\nmy disturbed mind like a dark deposit in a turbid well. Why was I\\nalways suffering, always browbeaten, always accused, for ever\\ncondemned? Why could I never please? Why was it useless to try to win\\nany one’s favour? Eliza, who was headstrong and selfish, was respected.\\nGeorgiana, who had a spoiled temper, a very acrid spite, a captious and\\ninsolent carriage, was universally indulged. Her beauty, her pink\\ncheeks and golden curls, seemed to give delight to all who looked at\\nher, and to purchase indemnity for every fault. John no one thwarted,\\nmuch less punished; though he twisted the necks of the pigeons, killed\\nthe little pea-chicks, set the dogs at the sheep, stripped the hothouse\\nvines of their fruit, and broke the buds off the choicest plants in the\\nconservatory: he called his mother “old girl,” too; sometimes reviled\\nher for her dark skin, similar to his own; bluntly disregarded her\\nwishes; not unfrequently tore and spoiled her silk attire; and he was\\nstill “her own darling.” I dared commit no fault: I strove to fulfil\\nevery duty; and I was termed naughty and tiresome, sullen and sneaking,\\nfrom morning to noon, and from noon to night.\\n\\nMy head still ached and bled with the blow and fall I had received: no\\none had reproved John for wantonly striking me; and because I had\\nturned against him to avert farther irrational violence, I was loaded\\nwith general opprobrium.\\n\\n“Unjust!—unjust!” said my reason, forced by the agonising stimulus into\\nprecocious though transitory power: and Resolve, equally wrought up,\\ninstigated some strange expedient to achieve escape from insupportable\\noppression—as running away, or, if that could not be effected, never\\neating or drinking more, and letting myself die.\\n\\nWhat a consternation of soul was mine that dreary afternoon! How all my\\nbrain was in tumult, and all my heart in insurrection! Yet in what\\ndarkness, what dense ignorance, was the mental battle fought! I could\\nnot answer the ceaseless inward question—_why_ I thus suffered; now, at\\nthe distance of—I will not say how many years, I see it clearly.\\n\\nI was a discord in Gateshead Hall: I was like nobody there; I had\\nnothing in harmony with Mrs. Reed or her children, or her chosen\\nvassalage. If they did not love me, in fact, as little did I love them.\\nThey were not bound to regard with affection a thing that could not\\nsympathise with one amongst them; a heterogeneous thing, opposed to\\nthem in temperament, in capacity, in propensities; a useless thing,\\nincapable of serving their interest, or adding to their pleasure; a\\nnoxious thing, cherishing the germs of indignation at their treatment,\\nof contempt of their judgment. I know that had I been a sanguine,\\nbrilliant, careless, exacting, handsome, romping child—though equally\\ndependent and friendless—Mrs. Reed would have endured my presence more\\ncomplacently; her children would have entertained for me more of the\\ncordiality of fellow-feeling; the servants would have been less prone\\nto make me the scapegoat of the nursery.\\n\\nDaylight began to forsake the red-room; it was past four o’clock, and\\nthe beclouded afternoon was tending to drear twilight. I heard the rain\\nstill beating continuously on the staircase window, and the wind\\nhowling in the grove behind the hall; I grew by degrees cold as a\\nstone, and then my courage sank. My habitual mood of humiliation,\\nself-doubt, forlorn depression, fell damp on the embers of my decaying\\nire. All said I was wicked, and perhaps I might be so; what thought had\\nI been but just conceiving of starving myself to death? That certainly\\nwas a crime: and was I fit to die? Or was the vault under the chancel\\nof Gateshead Church an inviting bourne? In such vault I had been told\\ndid Mr. Reed lie buried; and led by this thought to recall his idea, I\\ndwelt on it with gathering dread. I could not remember him; but I knew\\nthat he was my own uncle—my mother’s brother—that he had taken me when\\na parentless infant to his house; and that in his last moments he had\\nrequired a promise of Mrs. Reed that she would rear and maintain me as\\none of her own children. Mrs. Reed probably considered she had kept\\nthis promise; and so she had, I dare say, as well as her nature would\\npermit her; but how could she really like an interloper not of her\\nrace, and unconnected with her, after her husband’s death, by any tie?\\nIt must have been most irksome to find herself bound by a hard-wrung\\npledge to stand in the stead of a parent to a strange child she could\\nnot love, and to see an uncongenial alien permanently intruded on her\\nown family group.\\n\\nA singular notion dawned upon me. I doubted not—never doubted—that if\\nMr. Reed had been alive he would have treated me kindly; and now, as I\\nsat looking at the white bed and overshadowed walls—occasionally also\\nturning a fascinated eye towards the dimly gleaming mirror—I began to\\nrecall what I had heard of dead men, troubled in their graves by the\\nviolation of their last wishes, revisiting the earth to punish the\\nperjured and avenge the oppressed; and I thought Mr. Reed’s spirit,\\nharassed by the wrongs of his sister’s child, might quit its\\nabode—whether in the church vault or in the unknown world of the\\ndeparted—and rise before me in this chamber. I wiped my tears and\\nhushed my sobs, fearful lest any sign of violent grief might waken a\\npreternatural voice to comfort me, or elicit from the gloom some haloed\\nface, bending over me with strange pity. This idea, consolatory in\\ntheory, I felt would be terrible if realised: with all my might I\\nendeavoured to stifle it—I endeavoured to be firm. Shaking my hair from\\nmy eyes, I lifted my head and tried to look boldly round the dark room;\\nat this moment a light gleamed on the wall. Was it, I asked myself, a\\nray from the moon penetrating some aperture in the blind? No; moonlight\\nwas still, and this stirred; while I gazed, it glided up to the ceiling\\nand quivered over my head. I can now conjecture readily that this\\nstreak of light was, in all likelihood, a gleam from a lantern carried\\nby some one across the lawn: but then, prepared as my mind was for\\nhorror, shaken as my nerves were by agitation, I thought the swift\\ndarting beam was a herald of some coming vision from another world. My\\nheart beat thick, my head grew hot; a sound filled my ears, which I\\ndeemed the rushing of wings; something seemed near me; I was oppressed,\\nsuffocated: endurance broke down; I rushed to the door and shook the\\nlock in desperate effort. Steps came running along the outer passage;\\nthe key turned, Bessie and Abbot entered.\\n\\n“Miss Eyre, are you ill?” said Bessie.\\n\\n“What a dreadful noise! it went quite through me!” exclaimed Abbot.\\n\\n“Take me out! Let me go into the nursery!” was my cry.\\n\\n“What for? Are you hurt? Have you seen something?” again demanded\\nBessie.\\n\\n“Oh! I saw a light, and I thought a ghost would come.” I had now got\\nhold of Bessie’s hand, and she did not snatch it from me.\\n\\n“She has screamed out on purpose,” declared Abbot, in some disgust.\\n“And what a scream! If she had been in great pain one would have\\nexcused it, but she only wanted to bring us all here: I know her\\nnaughty tricks.”\\n\\n“What is all this?” demanded another voice peremptorily; and Mrs. Reed\\ncame along the corridor, her cap flying wide, her gown rustling\\nstormily. “Abbot and Bessie, I believe I gave orders that Jane Eyre\\nshould be left in the red-room till I came to her myself.”\\n\\n“Miss Jane screamed so loud, ma’am,” pleaded Bessie.\\n\\n“Let her go,” was the only answer. “Loose Bessie’s hand, child: you\\ncannot succeed in getting out by these means, be assured. I abhor\\nartifice, particularly in children; it is my duty to show you that\\ntricks will not answer: you will now stay here an hour longer, and it\\nis only on condition of perfect submission and stillness that I shall\\nliberate you then.”\\n\\n“O aunt! have pity! Forgive me! I cannot endure it—let me be punished\\nsome other way! I shall be killed if—”\\n\\n“Silence! This violence is all most repulsive:” and so, no doubt, she\\nfelt it. I was a precocious actress in her eyes; she sincerely looked\\non me as a compound of virulent passions, mean spirit, and dangerous\\nduplicity.\\n\\nBessie and Abbot having retreated, Mrs. Reed, impatient of my now\\nfrantic anguish and wild sobs, abruptly thrust me back and locked me\\nin, without farther parley. I heard her sweeping away; and soon after\\nshe was gone, I suppose I had a species of fit: unconsciousness closed\\nthe scene.\\n\\n\\n\\n\\nCHAPTER III\\n\\n\\nThe next thing I remember is, waking up with a feeling as if I had had\\na frightful nightmare, and seeing before me a terrible red glare,\\ncrossed with thick black bars. I heard voices, too, speaking with a\\nhollow sound, and as if muffled by a rush of wind or water: agitation,\\nuncertainty, and an all-predominating sense of terror confused my\\nfaculties. Ere long, I became aware that some one was handling me;\\nlifting me up and supporting me in a sitting posture, and that more\\ntenderly than I had ever been raised or upheld before. I rested my head\\nagainst a pillow or an arm, and felt easy.\\n\\nIn five minutes more the cloud of bewilderment dissolved: I knew quite\\nwell that I was in my own bed, and that the red glare was the nursery\\nfire. It was night: a candle burnt on the table; Bessie stood at the\\nbed-foot with a basin in her hand, and a gentleman sat in a chair near\\nmy pillow, leaning over me.\\n\\nI felt an inexpressible relief, a soothing conviction of protection and\\nsecurity, when I knew that there was a stranger in the room, an\\nindividual not belonging to Gateshead, and not related to Mrs. Reed.\\nTurning from Bessie (though her presence was far less obnoxious to me\\nthan that of Abbot, for instance, would have been), I scrutinised the\\nface of the gentleman: I knew him; it was Mr. Lloyd, an apothecary,\\nsometimes called in by Mrs. Reed when the servants were ailing: for\\nherself and the children she employed a physician.\\n\\n“Well, who am I?” he asked.\\n\\nI pronounced his name, offering him at the same time my hand: he took\\nit, smiling and saying, “We shall do very well by-and-by.” Then he laid\\nme down, and addressing Bessie, charged her to be very careful that I\\nwas not disturbed during the night. Having given some further\\ndirections, and intimated that he should call again the next day, he\\ndeparted; to my grief: I felt so sheltered and befriended while he sat\\nin the chair near my pillow; and as he closed the door after him, all\\nthe room darkened and my heart again sank: inexpressible sadness\\nweighed it down.\\n\\n“Do you feel as if you should sleep, Miss?” asked Bessie, rather\\nsoftly.\\n\\nScarcely dared I answer her; for I feared the next sentence might be\\nrough. “I will try.”\\n\\n“Would you like to drink, or could you eat anything?”\\n\\n“No, thank you, Bessie.”\\n\\n“Then I think I shall go to bed, for it is past twelve o’clock; but you\\nmay call me if you want anything in the night.”\\n\\nWonderful civility this! It emboldened me to ask a question.\\n\\n“Bessie, what is the matter with me? Am I ill?”\\n\\n“You fell sick, I suppose, in the red-room with crying; you’ll be\\nbetter soon, no doubt.”\\n\\nBessie went into the housemaid’s apartment, which was near. I heard her\\nsay—\\n\\n“Sarah, come and sleep with me in the nursery; I daren’t for my life be\\nalone with that poor child to-night: she might die; it’s such a strange\\nthing she should have that fit: I wonder if she saw anything. Missis\\nwas rather too hard.”\\n\\nSarah came back with her; they both went to bed; they were whispering\\ntogether for half-an-hour before they fell asleep. I caught scraps of\\ntheir conversation, from which I was able only too distinctly to infer\\nthe main subject discussed.\\n\\n“Something passed her, all dressed in white, and vanished”—“A great\\nblack dog behind him”—“Three loud raps on the chamber door”—“A light in\\nthe churchyard just over his grave,” &c., &c.\\n\\nAt last both slept: the fire and the candle went out. For me, the\\nwatches of that long night passed in ghastly wakefulness; ear, eye, and\\nmind were alike strained by dread: such dread as children only can\\nfeel.\\n\\nNo severe or prolonged bodily illness followed this incident of the\\nred-room; it only gave my nerves a shock of which I feel the\\nreverberation to this day. Yes, Mrs. Reed, to you I owe some fearful\\npangs of mental suffering, but I ought to forgive you, for you knew not\\nwhat you did: while rending my heart-strings, you thought you were only\\nuprooting my bad propensities.\\n\\nNext day, by noon, I was up and dressed, and sat wrapped in a shawl by\\nthe nursery hearth. I felt physically weak and broken down: but my\\nworse ailment was an unutterable wretchedness of mind: a wretchedness\\nwhich kept drawing from me silent tears; no sooner had I wiped one salt\\ndrop from my cheek than another followed. Yet, I thought, I ought to\\nhave been happy, for none of the Reeds were there, they were all gone\\nout in the carriage with their mama. Abbot, too, was sewing in another\\nroom, and Bessie, as she moved hither and thither, putting away toys\\nand arranging drawers, addressed to me every now and then a word of\\nunwonted kindness. This state of things should have been to me a\\nparadise of peace, accustomed as I was to a life of ceaseless reprimand\\nand thankless fagging; but, in fact, my racked nerves were now in such\\na state that no calm could soothe, and no pleasure excite them\\nagreeably.\\n\\nBessie had been down into the kitchen, and she brought up with her a\\ntart on a certain brightly painted china plate, whose bird of paradise,\\nnestling in a wreath of convolvuli and rosebuds, had been wont to stir\\nin me a most enthusiastic sense of admiration; and which plate I had\\noften petitioned to be allowed to take in my hand in order to examine\\nit more closely, but had always hitherto been deemed unworthy of such a\\nprivilege. This precious vessel was now placed on my knee, and I was\\ncordially invited to eat the circlet of delicate pastry upon it. Vain\\nfavour! coming, like most other favours long deferred and often wished\\nfor, too late! I could not eat the tart; and the plumage of the bird,\\nthe tints of the flowers, seemed strangely faded: I put both plate and\\ntart away. Bessie asked if I would have a book: the word _book_ acted\\nas a transient stimulus, and I begged her to fetch Gulliver’s Travels\\nfrom the library. This book I had again and again perused with delight.\\nI considered it a narrative of facts, and discovered in it a vein of\\ninterest deeper than what I found in fairy tales: for as to the elves,\\nhaving sought them in vain among foxglove leaves and bells, under\\nmushrooms and beneath the ground-ivy mantling old wall-nooks, I had at\\nlength made up my mind to the sad truth, that they were all gone out of\\nEngland to some savage country where the woods were wilder and thicker,\\nand the population more scant; whereas, Lilliput and Brobdignag being,\\nin my creed, solid parts of the earth’s surface, I doubted not that I\\nmight one day, by taking a long voyage, see with my own eyes the little\\nfields, houses, and trees, the diminutive people, the tiny cows, sheep,\\nand birds of the one realm; and the corn-fields forest-high, the mighty\\nmastiffs, the monster cats, the tower-like men and women, of the other.\\nYet, when this cherished volume was now placed in my hand—when I turned\\nover its leaves, and sought in its marvellous pictures the charm I had,\\ntill now, never failed to find—all was eerie and dreary; the giants\\nwere gaunt goblins, the pigmies malevolent and fearful imps, Gulliver a\\nmost desolate wanderer in most dread and dangerous regions. I closed\\nthe book, which I dared no longer peruse, and put it on the table,\\nbeside the untasted tart.\\n\\nBessie had now finished dusting and tidying the room, and having washed\\nher hands, she opened a certain little drawer, full of splendid shreds\\nof silk and satin, and began making a new bonnet for Georgiana’s doll.\\nMeantime she sang: her song was—\\n\\n“In the days when we went gipsying,\\n    A long time ago.”\\n\\n\\nI had often heard the song before, and always with lively delight; for\\nBessie had a sweet voice,—at least, I thought so. But now, though her\\nvoice was still sweet, I found in its melody an indescribable sadness.\\nSometimes, preoccupied with her work, she sang the refrain very low,\\nvery lingeringly; “A long time ago” came out like the saddest cadence\\nof a funeral hymn. She passed into another ballad, this time a really\\ndoleful one.\\n\\n“My feet they are sore, and my limbs they are weary;\\n    Long is the way, and the mountains are wild;\\nSoon will the twilight close moonless and dreary\\n    Over the path of the poor orphan child.\\n\\nWhy did they send me so far and so lonely,\\n    Up where the moors spread and grey rocks are piled?\\nMen are hard-hearted, and kind angels only\\n    Watch o’er the steps of a poor orphan child.\\n\\nYet distant and soft the night breeze is blowing,\\n    Clouds there are none, and clear stars beam mild,\\nGod, in His mercy, protection is showing,\\n    Comfort and hope to the poor orphan child.\\n\\nEv’n should I fall o’er the broken bridge passing,\\n    Or stray in the marshes, by false lights beguiled,\\nStill will my Father, with promise and blessing,\\n    Take to His bosom the poor orphan child.\\n\\nThere is a thought that for strength should avail me,\\n    Though both of shelter and kindred despoiled;\\nHeaven is a home, and a rest will not fail me;\\n    God is a friend to the poor orphan child.”\\n\\n\\n“Come, Miss Jane, don’t cry,” said Bessie as she finished. She might as\\nwell have said to the fire, “don’t burn!” but how could she divine the\\nmorbid suffering to which I was a prey? In the course of the morning\\nMr. Lloyd came again.\\n\\n“What, already up!” said he, as he entered the nursery. “Well, nurse,\\nhow is she?”\\n\\nBessie answered that I was doing very well.\\n\\n“Then she ought to look more cheerful. Come here, Miss Jane: your name\\nis Jane, is it not?”\\n\\n“Yes, sir, Jane Eyre.”\\n\\n“Well, you have been crying, Miss Jane Eyre; can you tell me what\\nabout? Have you any pain?”\\n\\n“No, sir.”\\n\\n“Oh! I daresay she is crying because she could not go out with Missis\\nin the carriage,” interposed Bessie.\\n\\n“Surely not! why, she is too old for such pettishness.”\\n\\nI thought so too; and my self-esteem being wounded by the false charge,\\nI answered promptly, “I never cried for such a thing in my life: I hate\\ngoing out in the carriage. I cry because I am miserable.”\\n\\n“Oh fie, Miss!” said Bessie.\\n\\nThe good apothecary appeared a little puzzled. I was standing before\\nhim; he fixed his eyes on me very steadily: his eyes were small and\\ngrey; not very bright, but I dare say I should think them shrewd now:\\nhe had a hard-featured yet good-natured looking face. Having considered\\nme at leisure, he said—\\n\\n“What made you ill yesterday?”\\n\\n“She had a fall,” said Bessie, again putting in her word.\\n\\n“Fall! why, that is like a baby again! Can’t she manage to walk at her\\nage? She must be eight or nine years old.”\\n\\n“I was knocked down,” was the blunt explanation, jerked out of me by\\nanother pang of mortified pride; “but that did not make me ill,” I\\nadded; while Mr. Lloyd helped himself to a pinch of snuff.\\n\\nAs he was returning the box to his waistcoat pocket, a loud bell rang\\nfor the servants’ dinner; he knew what it was. “That’s for you, nurse,”\\nsaid he; “you can go down; I’ll give Miss Jane a lecture till you come\\nback.”\\n\\nBessie would rather have stayed, but she was obliged to go, because\\npunctuality at meals was rigidly enforced at Gateshead Hall.\\n\\n“The fall did not make you ill; what did, then?” pursued Mr. Lloyd when\\nBessie was gone.\\n\\n“I was shut up in a room where there is a ghost till after dark.”\\n\\nI saw Mr. Lloyd smile and frown at the same time.\\n\\n“Ghost! What, you are a baby after all! You are afraid of ghosts?”\\n\\n“Of Mr. Reed’s ghost I am: he died in that room, and was laid out\\nthere. Neither Bessie nor any one else will go into it at night, if\\nthey can help it; and it was cruel to shut me up alone without a\\ncandle,—so cruel that I think I shall never forget it.”\\n\\n“Nonsense! And is it that makes you so miserable? Are you afraid now in\\ndaylight?”\\n\\n“No: but night will come again before long: and besides,—I am\\nunhappy,—very unhappy, for other things.”\\n\\n“What other things? Can you tell me some of them?”\\n\\nHow much I wished to reply fully to this question! How difficult it was\\nto frame any answer! Children can feel, but they cannot analyse their\\nfeelings; and if the analysis is partially effected in thought, they\\nknow not how to express the result of the process in words. Fearful,\\nhowever, of losing this first and only opportunity of relieving my\\ngrief by imparting it, I, after a disturbed pause, contrived to frame a\\nmeagre, though, as far as it went, true response.\\n\\n“For one thing, I have no father or mother, brothers or sisters.”\\n\\n“You have a kind aunt and cousins.”\\n\\nAgain I paused; then bunglingly enounced—\\n\\n“But John Reed knocked me down, and my aunt shut me up in the\\nred-room.”\\n\\nMr. Lloyd a second time produced his snuff-box.\\n\\n“Don’t you think Gateshead Hall a very beautiful house?” asked he. “Are\\nyou not very thankful to have such a fine place to live at?”\\n\\n“It is not my house, sir; and Abbot says I have less right to be here\\nthan a servant.”\\n\\n“Pooh! you can’t be silly enough to wish to leave such a splendid\\nplace?”\\n\\n“If I had anywhere else to go, I should be glad to leave it; but I can\\nnever get away from Gateshead till I am a woman.”\\n\\n“Perhaps you may—who knows? Have you any relations besides Mrs. Reed?”\\n\\n“I think not, sir.”\\n\\n“None belonging to your father?”\\n\\n“I don’t know: I asked Aunt Reed once, and she said possibly I might\\nhave some poor, low relations called Eyre, but she knew nothing about\\nthem.”\\n\\n“If you had such, would you like to go to them?”\\n\\nI reflected. Poverty looks grim to grown people; still more so to\\nchildren: they have not much idea of industrious, working, respectable\\npoverty; they think of the word only as connected with ragged clothes,\\nscanty food, fireless grates, rude manners, and debasing vices: poverty\\nfor me was synonymous with degradation.\\n\\n“No; I should not like to belong to poor people,” was my reply.\\n\\n“Not even if they were kind to you?”\\n\\nI shook my head: I could not see how poor people had the means of being\\nkind; and then to learn to speak like them, to adopt their manners, to\\nbe uneducated, to grow up like one of the poor women I saw sometimes\\nnursing their children or washing their clothes at the cottage doors of\\nthe village of Gateshead: no, I was not heroic enough to purchase\\nliberty at the price of caste.\\n\\n“But are your relatives so very poor? Are they working people?”\\n\\n“I cannot tell; Aunt Reed says if I have any, they must be a beggarly\\nset: I should not like to go a begging.”\\n\\n“Would you like to go to school?”\\n\\nAgain I reflected: I scarcely knew what school was: Bessie sometimes\\nspoke of it as a place where young ladies sat in the stocks, wore\\nbackboards, and were expected to be exceedingly genteel and precise:\\nJohn Reed hated his school, and abused his master; but John Reed’s\\ntastes were no rule for mine, and if Bessie’s accounts of\\nschool-discipline (gathered from the young ladies of a family where she\\nhad lived before coming to Gateshead) were somewhat appalling, her\\ndetails of certain accomplishments attained by these same young ladies\\nwere, I thought, equally attractive. She boasted of beautiful paintings\\nof landscapes and flowers by them executed; of songs they could sing\\nand pieces they could play, of purses they could net, of French books\\nthey could translate; till my spirit was moved to emulation as I\\nlistened. Besides, school would be a complete change: it implied a long\\njourney, an entire separation from Gateshead, an entrance into a new\\nlife.\\n\\n“I should indeed like to go to school,” was the audible conclusion of\\nmy musings.\\n\\n“Well, well! who knows what may happen?” said Mr. Lloyd, as he got up.\\n“The child ought to have change of air and scene,” he added, speaking\\nto himself; “nerves not in a good state.”\\n\\nBessie now returned; at the same moment the carriage was heard rolling\\nup the gravel-walk.\\n\\n“Is that your mistress, nurse?” asked Mr. Lloyd. “I should like to\\nspeak to her before I go.”\\n\\nBessie invited him to walk into the breakfast-room, and led the way\\nout. In the interview which followed between him and Mrs. Reed, I\\npresume, from after-occurrences, that the apothecary ventured to\\nrecommend my being sent to school; and the recommendation was no doubt\\nreadily enough adopted; for as Abbot said, in discussing the subject\\nwith Bessie when both sat sewing in the nursery one night, after I was\\nin bed, and, as they thought, asleep, “Missis was, she dared say, glad\\nenough to get rid of such a tiresome, ill-conditioned child, who always\\nlooked as if she were watching everybody, and scheming plots\\nunderhand.” Abbot, I think, gave me credit for being a sort of\\ninfantine Guy Fawkes.\\n\\nOn that same occasion I learned, for the first time, from Miss Abbot’s\\ncommunications to Bessie, that my father had been a poor clergyman;\\nthat my mother had married him against the wishes of her friends, who\\nconsidered the match beneath her; that my grandfather Reed was so\\nirritated at her disobedience, he cut her off without a shilling; that\\nafter my mother and father had been married a year, the latter caught\\nthe typhus fever while visiting among the poor of a large manufacturing\\ntown where his curacy was situated, and where that disease was then\\nprevalent: that my mother took the infection from him, and both died\\nwithin a month of each other.\\n\\nBessie, when she heard this narrative, sighed and said, “Poor Miss Jane\\nis to be pitied, too, Abbot.”\\n\\n“Yes,” responded Abbot; “if she were a nice, pretty child, one might\\ncompassionate her forlornness; but one really cannot care for such a\\nlittle toad as that.”\\n\\n“Not a great deal, to be sure,” agreed Bessie: “at any rate, a beauty\\nlike Miss Georgiana would be more moving in the same condition.”\\n\\n“Yes, I doat on Miss Georgiana!” cried the fervent Abbot. “Little\\ndarling!—with her long curls and her blue eyes, and such a sweet colour\\nas she has; just as if she were painted!—Bessie, I could fancy a Welsh\\nrabbit for supper.”\\n\\n“So could I—with a roast onion. Come, we’ll go down.” They went.'"
            ],
            "application/vnd.google.colaboratory.intrinsic+json": {
              "type": "string"
            }
          },
          "metadata": {},
          "execution_count": 2
        }
      ]
    },
    {
      "cell_type": "markdown",
      "metadata": {
        "id": "6s-mdcpFzaA1"
      },
      "source": [
        "You can take a look at the text to get an idea of what we will be working with. Once you're ready, we will go ahead and import the `spacy` library. The very first thing we do once we import `spacy` is to load the coprus, so that we are able to use its language models to parse our document. Let's run the code, and then discuss what is happening."
      ]
    },
    {
      "cell_type": "code",
      "execution_count": 3,
      "metadata": {
        "id": "niMXHg-_zaA2"
      },
      "outputs": [],
      "source": [
        "import spacy\n",
        "\n",
        "nlp = spacy.load(\"en_core_web_sm\")\n",
        "doc = nlp(jane)"
      ]
    },
    {
      "cell_type": "markdown",
      "metadata": {
        "id": "HGzpbOgPzaA2"
      },
      "source": [
        "### The structure of a parsed document\n",
        "\n",
        "When we create an `nlp` object based on our corpus, we are creating our pipeline for working with text. Our corpus contains all of the information necessary to prepare our data for analysis. When we create our `doc` object, we are passing our document through the processing pipeline. Our new parsed document (`doc` in this case), has some important **attributes**:\n",
        "\n",
        "- `sents` - a generator function to iterate over each sentence in the document\n",
        "- `token` - each individual element of the document\n",
        "    - Elements exist at the word/punctuation level\n",
        "\n",
        "After being processed, our document has been broken down into tokens, and then (to some extent) reconstructed into sentences. Additionally, each token is mapped out in relation to the other tokens within a sentence, and is described using various attributes to inform how that token relates to the text around it."
      ]
    },
    {
      "cell_type": "code",
      "execution_count": 4,
      "metadata": {
        "colab": {
          "base_uri": "https://localhost:8080/"
        },
        "id": "5cK6MvSEzaA3",
        "outputId": "dc57537b-1068-4017-a525-87f13ecff2e8"
      },
      "outputs": [
        {
          "output_type": "execute_result",
          "data": {
            "text/plain": [
              "['CHAPTER I   There was no possibility of taking a walk that day.',\n",
              " 'We had been wandering, indeed, in the leafless shrubbery an hour in the morning; but since dinner (Mrs. Reed, when there was no company, dined early) the cold winter wind had brought with it clouds so sombre, and a rain so penetrating, that further outdoor exercise was now out of the question.  ',\n",
              " 'I was glad of it: I never liked long walks, especially on chilly afternoons: dreadful to me was the coming home in the raw twilight, with nipped fingers and toes, and a heart saddened by the chidings of Bessie, the nurse, and humbled by the consciousness of my physical inferiority to Eliza, John, and Georgiana Reed.  ',\n",
              " 'The said Eliza, John, and Georgiana were now clustered round their mama in the drawing-room: she lay reclined on a sofa by the fireside, and with her darlings about her (for the time neither quarrelling nor crying) looked perfectly happy.',\n",
              " 'Me, she had dispensed from joining the group; saying, “She regretted to be under the necessity of keeping me at a distance; but that until she heard from Bessie, and could discover by her own observation, that I was endeavouring in good earnest to acquire a more sociable and childlike disposition, a more attractive and sprightly manner—something lighter, franker, more natural, as it were—she really must exclude me from privileges intended only for contented, happy, little children.”  ',\n",
              " '“What does Bessie say I have done?”',\n",
              " 'I asked.  ',\n",
              " '“Jane, I don’t like cavillers or questioners; besides, there is something truly forbidding in a child taking up her elders in that manner.',\n",
              " 'Be seated somewhere; and until you can speak pleasantly, remain silent.”  ',\n",
              " 'A breakfast-room adjoined the drawing-room, I slipped in there.']"
            ]
          },
          "metadata": {},
          "execution_count": 4
        }
      ],
      "source": [
        "test = [i.text.replace('\\n', ' ') for i in doc.sents][:10]\n",
        "# print first 10 sentences, replacing newlines with spaces\n",
        "\n",
        "test\n"
      ]
    },
    {
      "cell_type": "markdown",
      "metadata": {
        "id": "aP6-OqTPzaA3"
      },
      "source": [
        "### Understanding tokens\n",
        "\n",
        "Recall that each word is represented as a token in the processed document. These tokens are immensely powerful. They are the word, but also more than that. Words in the English language are often modified based on context. Verbs are conjugated, nouns may be plural, among many possibilities. Each word is **tokenized** through our corpus in order to identify the underlying word.\n",
        "\n",
        "This is important, because we might want to look for each instance of a single word in our corpus. Let's say that we want to find every instance of \"eat\". If we look for \"eat\", we want to make sure that \"eats\" and \"ate\", as well as \"eating\" and other forms are all considered. This is where tokenization becomes critical. Each token contains the text value from the original document, but also the **lemmatized** word. The lemma is the base form of the word, allowing us to search for lemmas rather than the text word. This streamlines our ability to analyze text by focusing on lemmas rather than unprocessed text.\n",
        "\n",
        "Other valuable attributes are also associated with our tokens:\n",
        "- `lemma_` - the \"root word\" from which a token/word is derived\n",
        "- `pos_` - the part of speech of a token/word\n",
        "- `dep_` - the relationship of dependent tokens to the parent token (adjectives to nouns, etc.)\n",
        "- `like_email`/`like_num`/`like_url` - check if a token is like an email, number, or url (unlikely in Jane Eyre)\n",
        "\n",
        "Let's look at the first 100 non-space, non-punctuation lemmas in Jane Eyre:"
      ]
    },
    {
      "cell_type": "code",
      "execution_count": 5,
      "metadata": {
        "colab": {
          "base_uri": "https://localhost:8080/"
        },
        "id": "r4mTL47IzaA3",
        "outputId": "91c250fc-8540-4121-a17a-41d3c2103cbb"
      },
      "outputs": [
        {
          "output_type": "stream",
          "name": "stdout",
          "text": [
            "[('chapter', 'CHAPTER'), ('I', 'I'), ('there', 'There'), ('be', 'was'), ('no', 'no'), ('possibility', 'possibility'), ('of', 'of'), ('take', 'taking'), ('a', 'a'), ('walk', 'walk'), ('that', 'that'), ('day', 'day'), ('we', 'We'), ('have', 'had'), ('be', 'been'), ('wander', 'wandering'), ('indeed', 'indeed'), ('in', 'in'), ('the', 'the'), ('leafless', 'leafless'), ('shrubbery', 'shrubbery'), ('an', 'an'), ('hour', 'hour'), ('in', 'in'), ('the', 'the'), ('morning', 'morning'), ('but', 'but'), ('since', 'since'), ('dinner', 'dinner'), ('Mrs.', 'Mrs.'), ('Reed', 'Reed'), ('when', 'when'), ('there', 'there'), ('be', 'was'), ('no', 'no'), ('company', 'company'), ('dine', 'dined'), ('early', 'early'), ('the', 'the'), ('cold', 'cold'), ('winter', 'winter'), ('wind', 'wind'), ('have', 'had'), ('bring', 'brought'), ('with', 'with'), ('it', 'it'), ('cloud', 'clouds'), ('so', 'so'), ('sombre', 'sombre'), ('and', 'and'), ('a', 'a'), ('rain', 'rain'), ('so', 'so'), ('penetrate', 'penetrating'), ('that', 'that'), ('further', 'further'), ('outdoor', 'outdoor'), ('exercise', 'exercise'), ('be', 'was'), ('now', 'now'), ('out', 'out'), ('of', 'of'), ('the', 'the'), ('question', 'question'), ('I', 'I'), ('be', 'was'), ('glad', 'glad'), ('of', 'of'), ('it', 'it'), ('I', 'I'), ('never', 'never'), ('like', 'liked'), ('long', 'long'), ('walk', 'walks'), ('especially', 'especially'), ('on', 'on'), ('chilly', 'chilly'), ('afternoon', 'afternoons'), ('dreadful', 'dreadful'), ('to', 'to'), ('I', 'me'), ('be', 'was'), ('the', 'the'), ('come', 'coming'), ('home', 'home'), ('in', 'in'), ('the', 'the'), ('raw', 'raw'), ('twilight', 'twilight'), ('with', 'with'), ('nip', 'nipped'), ('finger', 'fingers'), ('and', 'and'), ('toe', 'toes'), ('and', 'and'), ('a', 'a'), ('heart', 'heart'), ('sadden', 'saddened'), ('by', 'by'), ('the', 'the')]\n"
          ]
        }
      ],
      "source": [
        "lemmas100 = [(i.lemma_, i.text) for i in doc if (not i.is_punct) and (not i.is_space)][:100]\n",
        "\n",
        "print(lemmas100) # The lemma comes first, followed by the actual word in the text."
      ]
    },
    {
      "cell_type": "markdown",
      "metadata": {
        "id": "ZPQImqDuzaA4"
      },
      "source": [
        "We can also filter words by part of speech using the `pos_` attribute of our tokens. Let's look for the first 100 nouns in the text."
      ]
    },
    {
      "cell_type": "code",
      "execution_count": 6,
      "metadata": {
        "colab": {
          "base_uri": "https://localhost:8080/"
        },
        "id": "6m162LpwzaA4",
        "outputId": "b32ff1f5-5c38-40de-891b-7409ef67e1b4"
      },
      "outputs": [
        {
          "output_type": "stream",
          "name": "stdout",
          "text": [
            "['CHAPTER', 'possibility', 'walk', 'day', 'leafless', 'shrubbery', 'hour', 'morning', 'dinner', 'company', 'winter', 'wind', 'clouds', 'sombre', 'rain', 'exercise', 'question', 'walks', 'afternoons', 'home', 'twilight', 'fingers', 'toes', 'heart', 'chidings', 'nurse', 'consciousness', 'inferiority', 'mama', 'drawing', 'room', 'sofa', 'fireside', 'darlings', 'time', 'crying', 'group', 'necessity', 'distance', 'observation', 'earnest', 'disposition', 'manner', 'franker', 'privileges', 'children', 'Bessie', 'cavillers', 'questioners', 'child', 'elders', 'manner', 'breakfast', 'room', 'drawing', 'room', 'bookcase', 'volume', 'care', 'pictures', 'window', 'seat', 'feet', 'curtain', 'retirement', 'drapery', 'view', 'hand', 'panes', 'glass', 'day', 'intervals', 'leaves', 'book', 'aspect', 'winter', 'afternoon', 'blank', 'mist', 'scene', 'lawn', 'storm', 'beat', 'shrub', 'rain', 'blast', 'book', 'History', 'letterpress', 'pages', 'child', 'blank', 'haunts', 'sea', 'fowl', 'rocks', 'promontories', 'coast', 'isles', 'extremity']\n"
          ]
        }
      ],
      "source": [
        "nouns = [i.text for i in doc if i.pos_=='NOUN'][:100]\n",
        "\n",
        "print(nouns) # The lemma comes first, followed by the actual word in the text."
      ]
    },
    {
      "cell_type": "markdown",
      "metadata": {
        "id": "BPSt2_lmzaA4"
      },
      "source": [
        "Pretty cool! If you look through that list, you'll see that there are a lot of different kinds of nouns. Two that stood out to me are \"drawing\" and \"room\"... oh wait... that's ONE NOUN that is two words! And leads us right into **noun chunks**. ;)\n",
        "\n",
        "Sometimes, you want to be able to see a \"complete\" noun, and noun chunks are the tool to use!"
      ]
    },
    {
      "cell_type": "code",
      "execution_count": 7,
      "metadata": {
        "colab": {
          "base_uri": "https://localhost:8080/"
        },
        "id": "Ki9hxVxpzaA5",
        "outputId": "7beb0825-d245-4de4-f6d0-fae69f8e125f"
      },
      "outputs": [
        {
          "output_type": "stream",
          "name": "stdout",
          "text": [
            "['I', 'no possibility', 'a walk', 'We', 'the leafless shrubbery', 'the morning', 'dinner', 'Mrs. Reed', 'no company', 'the cold winter wind', 'it', 'clouds', 'a rain', 'further outdoor exercise', 'the question', 'I', 'it', 'I', 'long walks', 'chilly afternoons', 'me', 'the coming home', 'the raw twilight', 'nipped fingers', 'toes', 'a heart', 'the chidings', 'Bessie', 'the nurse', 'the consciousness', 'my physical inferiority', 'Eliza', 'John', 'Georgiana Reed', 'The', 'Eliza', 'John', 'Georgiana', 'their mama', 'the drawing-room', 'she', 'a sofa', 'the fireside', 'her darlings', 'her', 'the time', 'crying', 'she', 'the group', 'She', 'the necessity', 'me', 'a distance', 'she', 'Bessie', 'her own observation', 'I', 'good earnest', 'a more sociable and childlike disposition', 'something', 'it', 'she', 'me', 'privileges', 'contented, happy, little children', 'Bessie', 'I', 'I', 'I', 'cavillers', 'questioners', 'something', 'a child', 'her elders', 'that manner', 'you', 'A breakfast-room', 'the drawing-room', 'I', 'It', 'a bookcase', 'I', 'myself', 'a volume', 'care', 'it', 'pictures', 'I', 'the window-seat', 'my feet', 'I', 'a Turk', 'the red moreen curtain', 'I', 'double retirement', 'Folds', 'scarlet drapery', 'my view', 'the right hand', 'the clear panes']\n"
          ]
        }
      ],
      "source": [
        "nouns = [i.text.replace('\\n', ' ') for i in doc.noun_chunks][:100] # getting rid of new lines in our noun chunks\n",
        "\n",
        "print(nouns)"
      ]
    },
    {
      "cell_type": "markdown",
      "metadata": {
        "id": "PTjHzWy9zaA5"
      },
      "source": [
        "That's better. Noun chunks include all of the modifiers for a given noun, and make it easier to build a more complete understanding of the references being made. Why do we care? Because \"the red moreen curtain\" is the object, and we want to be sure to understand the implication of the full object, rather than only the word within the noun chunk that is actually a noun.\n",
        "\n",
        "If we want to understand more about the nature of the relationships between words within a sentence, we can plot a dependency tree.\n",
        "\n",
        "**NOTE: When you run the following code, be sure to click the STOP button when you're done, or no other code will run! The renderer for the dependency tree will keep running until you terminate it!**"
      ]
    },
    {
      "cell_type": "code",
      "execution_count": 8,
      "metadata": {
        "colab": {
          "base_uri": "https://localhost:8080/",
          "height": 760
        },
        "id": "INrCMYwtzaA5",
        "outputId": "62b0f0cd-f09c-4ae0-ae33-8165b9a66b95"
      },
      "outputs": [
        {
          "output_type": "stream",
          "name": "stderr",
          "text": [
            "/usr/local/lib/python3.10/dist-packages/spacy/displacy/__init__.py:106: UserWarning: [W011] It looks like you're calling displacy.serve from within a Jupyter notebook or a similar environment. This likely means you're already running a local web server, so there's no need to make displaCy start another one. Instead, you should be able to replace displacy.serve with displacy.render to show the visualization.\n",
            "  warnings.warn(Warnings.W011)\n"
          ]
        },
        {
          "output_type": "display_data",
          "data": {
            "text/plain": [
              "<IPython.core.display.HTML object>"
            ],
            "text/html": [
              "<span class=\"tex2jax_ignore\"><!DOCTYPE html>\n",
              "<html lang=\"en\">\n",
              "    <head>\n",
              "        <title>displaCy</title>\n",
              "    </head>\n",
              "\n",
              "    <body style=\"font-size: 16px; font-family: -apple-system, BlinkMacSystemFont, 'Segoe UI', Helvetica, Arial, sans-serif, 'Apple Color Emoji', 'Segoe UI Emoji', 'Segoe UI Symbol'; padding: 4rem 2rem; direction: ltr\">\n",
              "<figure style=\"margin-bottom: 6rem\">\n",
              "<svg xmlns=\"http://www.w3.org/2000/svg\" xmlns:xlink=\"http://www.w3.org/1999/xlink\" xml:lang=\"en\" id=\"6ccc2914570f46a38e97aaab1e954abb-0\" class=\"displacy\" width=\"2325\" height=\"487.0\" direction=\"ltr\" style=\"max-width: none; height: 487.0px; color: #000000; background: #ffffff; font-family: Arial; direction: ltr\">\n",
              "<text class=\"displacy-token\" fill=\"currentColor\" text-anchor=\"middle\" y=\"397.0\">\n",
              "    <tspan class=\"displacy-word\" fill=\"currentColor\" x=\"50\">In</tspan>\n",
              "    <tspan class=\"displacy-tag\" dy=\"2em\" fill=\"currentColor\" x=\"50\">ADP</tspan>\n",
              "</text>\n",
              "\n",
              "<text class=\"displacy-token\" fill=\"currentColor\" text-anchor=\"middle\" y=\"397.0\">\n",
              "    <tspan class=\"displacy-word\" fill=\"currentColor\" x=\"225\">guarantee</tspan>\n",
              "    <tspan class=\"displacy-tag\" dy=\"2em\" fill=\"currentColor\" x=\"225\">NOUN</tspan>\n",
              "</text>\n",
              "\n",
              "<text class=\"displacy-token\" fill=\"currentColor\" text-anchor=\"middle\" y=\"397.0\">\n",
              "    <tspan class=\"displacy-word\" fill=\"currentColor\" x=\"400\">whereof,</tspan>\n",
              "    <tspan class=\"displacy-tag\" dy=\"2em\" fill=\"currentColor\" x=\"400\">ADV</tspan>\n",
              "</text>\n",
              "\n",
              "<text class=\"displacy-token\" fill=\"currentColor\" text-anchor=\"middle\" y=\"397.0\">\n",
              "    <tspan class=\"displacy-word\" fill=\"currentColor\" x=\"575\">I</tspan>\n",
              "    <tspan class=\"displacy-tag\" dy=\"2em\" fill=\"currentColor\" x=\"575\">PRON</tspan>\n",
              "</text>\n",
              "\n",
              "<text class=\"displacy-token\" fill=\"currentColor\" text-anchor=\"middle\" y=\"397.0\">\n",
              "    <tspan class=\"displacy-word\" fill=\"currentColor\" x=\"750\">attached</tspan>\n",
              "    <tspan class=\"displacy-tag\" dy=\"2em\" fill=\"currentColor\" x=\"750\">VERB</tspan>\n",
              "</text>\n",
              "\n",
              "<text class=\"displacy-token\" fill=\"currentColor\" text-anchor=\"middle\" y=\"397.0\">\n",
              "    <tspan class=\"displacy-word\" fill=\"currentColor\" x=\"925\">myself</tspan>\n",
              "    <tspan class=\"displacy-tag\" dy=\"2em\" fill=\"currentColor\" x=\"925\">PRON</tspan>\n",
              "</text>\n",
              "\n",
              "<text class=\"displacy-token\" fill=\"currentColor\" text-anchor=\"middle\" y=\"397.0\">\n",
              "    <tspan class=\"displacy-word\" fill=\"currentColor\" x=\"1100\">to</tspan>\n",
              "    <tspan class=\"displacy-tag\" dy=\"2em\" fill=\"currentColor\" x=\"1100\">ADP</tspan>\n",
              "</text>\n",
              "\n",
              "<text class=\"displacy-token\" fill=\"currentColor\" text-anchor=\"middle\" y=\"397.0\">\n",
              "    <tspan class=\"displacy-word\" fill=\"currentColor\" x=\"1275\">my</tspan>\n",
              "    <tspan class=\"displacy-tag\" dy=\"2em\" fill=\"currentColor\" x=\"1275\">PRON</tspan>\n",
              "</text>\n",
              "\n",
              "<text class=\"displacy-token\" fill=\"currentColor\" text-anchor=\"middle\" y=\"397.0\">\n",
              "    <tspan class=\"displacy-word\" fill=\"currentColor\" x=\"1450\">seat</tspan>\n",
              "    <tspan class=\"displacy-tag\" dy=\"2em\" fill=\"currentColor\" x=\"1450\">NOUN</tspan>\n",
              "</text>\n",
              "\n",
              "<text class=\"displacy-token\" fill=\"currentColor\" text-anchor=\"middle\" y=\"397.0\">\n",
              "    <tspan class=\"displacy-word\" fill=\"currentColor\" x=\"1625\">by</tspan>\n",
              "    <tspan class=\"displacy-tag\" dy=\"2em\" fill=\"currentColor\" x=\"1625\">ADP</tspan>\n",
              "</text>\n",
              "\n",
              "<text class=\"displacy-token\" fill=\"currentColor\" text-anchor=\"middle\" y=\"397.0\">\n",
              "    <tspan class=\"displacy-word\" fill=\"currentColor\" x=\"1800\">my</tspan>\n",
              "    <tspan class=\"displacy-tag\" dy=\"2em\" fill=\"currentColor\" x=\"1800\">PRON</tspan>\n",
              "</text>\n",
              "\n",
              "<text class=\"displacy-token\" fill=\"currentColor\" text-anchor=\"middle\" y=\"397.0\">\n",
              "    <tspan class=\"displacy-word\" fill=\"currentColor\" x=\"1975\">hands.</tspan>\n",
              "    <tspan class=\"displacy-tag\" dy=\"2em\" fill=\"currentColor\" x=\"1975\">PUNCT</tspan>\n",
              "</text>\n",
              "\n",
              "<text class=\"displacy-token\" fill=\"currentColor\" text-anchor=\"middle\" y=\"397.0\">\n",
              "    <tspan class=\"displacy-word\" fill=\"currentColor\" x=\"2150\">\n",
              "\n",
              "</tspan>\n",
              "    <tspan class=\"displacy-tag\" dy=\"2em\" fill=\"currentColor\" x=\"2150\">SPACE</tspan>\n",
              "</text>\n",
              "\n",
              "<g class=\"displacy-arrow\">\n",
              "    <path class=\"displacy-arc\" id=\"arrow-6ccc2914570f46a38e97aaab1e954abb-0-0\" stroke-width=\"2px\" d=\"M70,352.0 C70,177.0 740.0,177.0 740.0,352.0\" fill=\"none\" stroke=\"currentColor\"/>\n",
              "    <text dy=\"1.25em\" style=\"font-size: 0.8em; letter-spacing: 1px\">\n",
              "        <textPath xlink:href=\"#arrow-6ccc2914570f46a38e97aaab1e954abb-0-0\" class=\"displacy-label\" startOffset=\"50%\" side=\"left\" fill=\"currentColor\" text-anchor=\"middle\">prep</textPath>\n",
              "    </text>\n",
              "    <path class=\"displacy-arrowhead\" d=\"M70,354.0 L62,342.0 78,342.0\" fill=\"currentColor\"/>\n",
              "</g>\n",
              "\n",
              "<g class=\"displacy-arrow\">\n",
              "    <path class=\"displacy-arc\" id=\"arrow-6ccc2914570f46a38e97aaab1e954abb-0-1\" stroke-width=\"2px\" d=\"M70,352.0 C70,264.5 210.0,264.5 210.0,352.0\" fill=\"none\" stroke=\"currentColor\"/>\n",
              "    <text dy=\"1.25em\" style=\"font-size: 0.8em; letter-spacing: 1px\">\n",
              "        <textPath xlink:href=\"#arrow-6ccc2914570f46a38e97aaab1e954abb-0-1\" class=\"displacy-label\" startOffset=\"50%\" side=\"left\" fill=\"currentColor\" text-anchor=\"middle\">pobj</textPath>\n",
              "    </text>\n",
              "    <path class=\"displacy-arrowhead\" d=\"M210.0,354.0 L218.0,342.0 202.0,342.0\" fill=\"currentColor\"/>\n",
              "</g>\n",
              "\n",
              "<g class=\"displacy-arrow\">\n",
              "    <path class=\"displacy-arc\" id=\"arrow-6ccc2914570f46a38e97aaab1e954abb-0-2\" stroke-width=\"2px\" d=\"M245,352.0 C245,264.5 385.0,264.5 385.0,352.0\" fill=\"none\" stroke=\"currentColor\"/>\n",
              "    <text dy=\"1.25em\" style=\"font-size: 0.8em; letter-spacing: 1px\">\n",
              "        <textPath xlink:href=\"#arrow-6ccc2914570f46a38e97aaab1e954abb-0-2\" class=\"displacy-label\" startOffset=\"50%\" side=\"left\" fill=\"currentColor\" text-anchor=\"middle\">acl</textPath>\n",
              "    </text>\n",
              "    <path class=\"displacy-arrowhead\" d=\"M385.0,354.0 L393.0,342.0 377.0,342.0\" fill=\"currentColor\"/>\n",
              "</g>\n",
              "\n",
              "<g class=\"displacy-arrow\">\n",
              "    <path class=\"displacy-arc\" id=\"arrow-6ccc2914570f46a38e97aaab1e954abb-0-3\" stroke-width=\"2px\" d=\"M595,352.0 C595,264.5 735.0,264.5 735.0,352.0\" fill=\"none\" stroke=\"currentColor\"/>\n",
              "    <text dy=\"1.25em\" style=\"font-size: 0.8em; letter-spacing: 1px\">\n",
              "        <textPath xlink:href=\"#arrow-6ccc2914570f46a38e97aaab1e954abb-0-3\" class=\"displacy-label\" startOffset=\"50%\" side=\"left\" fill=\"currentColor\" text-anchor=\"middle\">nsubj</textPath>\n",
              "    </text>\n",
              "    <path class=\"displacy-arrowhead\" d=\"M595,354.0 L587,342.0 603,342.0\" fill=\"currentColor\"/>\n",
              "</g>\n",
              "\n",
              "<g class=\"displacy-arrow\">\n",
              "    <path class=\"displacy-arc\" id=\"arrow-6ccc2914570f46a38e97aaab1e954abb-0-4\" stroke-width=\"2px\" d=\"M770,352.0 C770,264.5 910.0,264.5 910.0,352.0\" fill=\"none\" stroke=\"currentColor\"/>\n",
              "    <text dy=\"1.25em\" style=\"font-size: 0.8em; letter-spacing: 1px\">\n",
              "        <textPath xlink:href=\"#arrow-6ccc2914570f46a38e97aaab1e954abb-0-4\" class=\"displacy-label\" startOffset=\"50%\" side=\"left\" fill=\"currentColor\" text-anchor=\"middle\">dobj</textPath>\n",
              "    </text>\n",
              "    <path class=\"displacy-arrowhead\" d=\"M910.0,354.0 L918.0,342.0 902.0,342.0\" fill=\"currentColor\"/>\n",
              "</g>\n",
              "\n",
              "<g class=\"displacy-arrow\">\n",
              "    <path class=\"displacy-arc\" id=\"arrow-6ccc2914570f46a38e97aaab1e954abb-0-5\" stroke-width=\"2px\" d=\"M770,352.0 C770,177.0 1090.0,177.0 1090.0,352.0\" fill=\"none\" stroke=\"currentColor\"/>\n",
              "    <text dy=\"1.25em\" style=\"font-size: 0.8em; letter-spacing: 1px\">\n",
              "        <textPath xlink:href=\"#arrow-6ccc2914570f46a38e97aaab1e954abb-0-5\" class=\"displacy-label\" startOffset=\"50%\" side=\"left\" fill=\"currentColor\" text-anchor=\"middle\">prep</textPath>\n",
              "    </text>\n",
              "    <path class=\"displacy-arrowhead\" d=\"M1090.0,354.0 L1098.0,342.0 1082.0,342.0\" fill=\"currentColor\"/>\n",
              "</g>\n",
              "\n",
              "<g class=\"displacy-arrow\">\n",
              "    <path class=\"displacy-arc\" id=\"arrow-6ccc2914570f46a38e97aaab1e954abb-0-6\" stroke-width=\"2px\" d=\"M1295,352.0 C1295,264.5 1435.0,264.5 1435.0,352.0\" fill=\"none\" stroke=\"currentColor\"/>\n",
              "    <text dy=\"1.25em\" style=\"font-size: 0.8em; letter-spacing: 1px\">\n",
              "        <textPath xlink:href=\"#arrow-6ccc2914570f46a38e97aaab1e954abb-0-6\" class=\"displacy-label\" startOffset=\"50%\" side=\"left\" fill=\"currentColor\" text-anchor=\"middle\">poss</textPath>\n",
              "    </text>\n",
              "    <path class=\"displacy-arrowhead\" d=\"M1295,354.0 L1287,342.0 1303,342.0\" fill=\"currentColor\"/>\n",
              "</g>\n",
              "\n",
              "<g class=\"displacy-arrow\">\n",
              "    <path class=\"displacy-arc\" id=\"arrow-6ccc2914570f46a38e97aaab1e954abb-0-7\" stroke-width=\"2px\" d=\"M1120,352.0 C1120,177.0 1440.0,177.0 1440.0,352.0\" fill=\"none\" stroke=\"currentColor\"/>\n",
              "    <text dy=\"1.25em\" style=\"font-size: 0.8em; letter-spacing: 1px\">\n",
              "        <textPath xlink:href=\"#arrow-6ccc2914570f46a38e97aaab1e954abb-0-7\" class=\"displacy-label\" startOffset=\"50%\" side=\"left\" fill=\"currentColor\" text-anchor=\"middle\">pobj</textPath>\n",
              "    </text>\n",
              "    <path class=\"displacy-arrowhead\" d=\"M1440.0,354.0 L1448.0,342.0 1432.0,342.0\" fill=\"currentColor\"/>\n",
              "</g>\n",
              "\n",
              "<g class=\"displacy-arrow\">\n",
              "    <path class=\"displacy-arc\" id=\"arrow-6ccc2914570f46a38e97aaab1e954abb-0-8\" stroke-width=\"2px\" d=\"M770,352.0 C770,89.5 1620.0,89.5 1620.0,352.0\" fill=\"none\" stroke=\"currentColor\"/>\n",
              "    <text dy=\"1.25em\" style=\"font-size: 0.8em; letter-spacing: 1px\">\n",
              "        <textPath xlink:href=\"#arrow-6ccc2914570f46a38e97aaab1e954abb-0-8\" class=\"displacy-label\" startOffset=\"50%\" side=\"left\" fill=\"currentColor\" text-anchor=\"middle\">prep</textPath>\n",
              "    </text>\n",
              "    <path class=\"displacy-arrowhead\" d=\"M1620.0,354.0 L1628.0,342.0 1612.0,342.0\" fill=\"currentColor\"/>\n",
              "</g>\n",
              "\n",
              "<g class=\"displacy-arrow\">\n",
              "    <path class=\"displacy-arc\" id=\"arrow-6ccc2914570f46a38e97aaab1e954abb-0-9\" stroke-width=\"2px\" d=\"M1820,352.0 C1820,264.5 1960.0,264.5 1960.0,352.0\" fill=\"none\" stroke=\"currentColor\"/>\n",
              "    <text dy=\"1.25em\" style=\"font-size: 0.8em; letter-spacing: 1px\">\n",
              "        <textPath xlink:href=\"#arrow-6ccc2914570f46a38e97aaab1e954abb-0-9\" class=\"displacy-label\" startOffset=\"50%\" side=\"left\" fill=\"currentColor\" text-anchor=\"middle\">poss</textPath>\n",
              "    </text>\n",
              "    <path class=\"displacy-arrowhead\" d=\"M1820,354.0 L1812,342.0 1828,342.0\" fill=\"currentColor\"/>\n",
              "</g>\n",
              "\n",
              "<g class=\"displacy-arrow\">\n",
              "    <path class=\"displacy-arc\" id=\"arrow-6ccc2914570f46a38e97aaab1e954abb-0-10\" stroke-width=\"2px\" d=\"M770,352.0 C770,2.0 1975.0,2.0 1975.0,352.0\" fill=\"none\" stroke=\"currentColor\"/>\n",
              "    <text dy=\"1.25em\" style=\"font-size: 0.8em; letter-spacing: 1px\">\n",
              "        <textPath xlink:href=\"#arrow-6ccc2914570f46a38e97aaab1e954abb-0-10\" class=\"displacy-label\" startOffset=\"50%\" side=\"left\" fill=\"currentColor\" text-anchor=\"middle\">punct</textPath>\n",
              "    </text>\n",
              "    <path class=\"displacy-arrowhead\" d=\"M1975.0,354.0 L1983.0,342.0 1967.0,342.0\" fill=\"currentColor\"/>\n",
              "</g>\n",
              "\n",
              "<g class=\"displacy-arrow\">\n",
              "    <path class=\"displacy-arc\" id=\"arrow-6ccc2914570f46a38e97aaab1e954abb-0-11\" stroke-width=\"2px\" d=\"M1995,352.0 C1995,264.5 2135.0,264.5 2135.0,352.0\" fill=\"none\" stroke=\"currentColor\"/>\n",
              "    <text dy=\"1.25em\" style=\"font-size: 0.8em; letter-spacing: 1px\">\n",
              "        <textPath xlink:href=\"#arrow-6ccc2914570f46a38e97aaab1e954abb-0-11\" class=\"displacy-label\" startOffset=\"50%\" side=\"left\" fill=\"currentColor\" text-anchor=\"middle\">dep</textPath>\n",
              "    </text>\n",
              "    <path class=\"displacy-arrowhead\" d=\"M2135.0,354.0 L2143.0,342.0 2127.0,342.0\" fill=\"currentColor\"/>\n",
              "</g>\n",
              "</svg>\n",
              "</figure>\n",
              "</body>\n",
              "</html></span>"
            ]
          },
          "metadata": {}
        },
        {
          "output_type": "stream",
          "name": "stdout",
          "text": [
            "\n",
            "Using the 'dep' visualizer\n",
            "Serving on http://0.0.0.0:5000 ...\n",
            "\n",
            "Shutting down server on port 5000.\n"
          ]
        }
      ],
      "source": [
        "from spacy import displacy\n",
        "\n",
        "sent = [i for i in doc.sents][100]\n",
        "displacy.serve(sent, style=\"dep\")"
      ]
    },
    {
      "cell_type": "markdown",
      "metadata": {
        "id": "BMyHP2r5zaA5"
      },
      "source": [
        "Using this mapping, we can see each of the clauses of the sentence, and how words within the sentence relate to one another. The mapping can help us to understand whether or not we have correctly identified parts of speech that are associated with the topics we are trying to uncover in our code.\n",
        "\n",
        "\n",
        "## Sentiment Analysis\n",
        "\n",
        "My personal favorite part of NLP, sentiment analysis is a very powerful instrument for understanding text and creating actionable items. Many firms use sentiment analysis in combination with their social media accounts to measure engagement and understand how successful marketing campaigns or other interactions are with target audiences.\n",
        "\n",
        "In order to conduct sentiment analysis using spacy, we are going to use a library called `spacytextblob`. This library includes supplemental material that expands the english corpus' ability to process our data. When utilized, `spacytextblob` is going to add sentiment analysis models to the general pipeline created through `spacy`.\n",
        "\n",
        "We can incorporate the `SpacyTextBlob` process into our pipeline like this:"
      ]
    },
    {
      "cell_type": "code",
      "source": [
        "!pip install SpacyTextBlob\n",
        "!pip install textblob"
      ],
      "metadata": {
        "colab": {
          "base_uri": "https://localhost:8080/"
        },
        "id": "WDe8LQOY1pLu",
        "outputId": "8d196f2d-3f0c-4498-d28a-603fa58d1964"
      },
      "execution_count": 14,
      "outputs": [
        {
          "output_type": "stream",
          "name": "stdout",
          "text": [
            "Requirement already satisfied: SpacyTextBlob in /usr/local/lib/python3.10/dist-packages (5.0.0)\n",
            "Requirement already satisfied: spacy>=3.0.0 in /usr/local/lib/python3.10/dist-packages (from SpacyTextBlob) (3.7.5)\n",
            "Requirement already satisfied: textblob>=0.18.0.post0 in /usr/local/lib/python3.10/dist-packages (from SpacyTextBlob) (0.18.0.post0)\n",
            "Requirement already satisfied: spacy-legacy<3.1.0,>=3.0.11 in /usr/local/lib/python3.10/dist-packages (from spacy>=3.0.0->SpacyTextBlob) (3.0.12)\n",
            "Requirement already satisfied: spacy-loggers<2.0.0,>=1.0.0 in /usr/local/lib/python3.10/dist-packages (from spacy>=3.0.0->SpacyTextBlob) (1.0.5)\n",
            "Requirement already satisfied: murmurhash<1.1.0,>=0.28.0 in /usr/local/lib/python3.10/dist-packages (from spacy>=3.0.0->SpacyTextBlob) (1.0.10)\n",
            "Requirement already satisfied: cymem<2.1.0,>=2.0.2 in /usr/local/lib/python3.10/dist-packages (from spacy>=3.0.0->SpacyTextBlob) (2.0.8)\n",
            "Requirement already satisfied: preshed<3.1.0,>=3.0.2 in /usr/local/lib/python3.10/dist-packages (from spacy>=3.0.0->SpacyTextBlob) (3.0.9)\n",
            "Requirement already satisfied: thinc<8.3.0,>=8.2.2 in /usr/local/lib/python3.10/dist-packages (from spacy>=3.0.0->SpacyTextBlob) (8.2.5)\n",
            "Requirement already satisfied: wasabi<1.2.0,>=0.9.1 in /usr/local/lib/python3.10/dist-packages (from spacy>=3.0.0->SpacyTextBlob) (1.1.3)\n",
            "Requirement already satisfied: srsly<3.0.0,>=2.4.3 in /usr/local/lib/python3.10/dist-packages (from spacy>=3.0.0->SpacyTextBlob) (2.4.8)\n",
            "Requirement already satisfied: catalogue<2.1.0,>=2.0.6 in /usr/local/lib/python3.10/dist-packages (from spacy>=3.0.0->SpacyTextBlob) (2.0.10)\n",
            "Requirement already satisfied: weasel<0.5.0,>=0.1.0 in /usr/local/lib/python3.10/dist-packages (from spacy>=3.0.0->SpacyTextBlob) (0.4.1)\n",
            "Requirement already satisfied: typer<1.0.0,>=0.3.0 in /usr/local/lib/python3.10/dist-packages (from spacy>=3.0.0->SpacyTextBlob) (0.13.0)\n",
            "Requirement already satisfied: tqdm<5.0.0,>=4.38.0 in /usr/local/lib/python3.10/dist-packages (from spacy>=3.0.0->SpacyTextBlob) (4.66.6)\n",
            "Requirement already satisfied: requests<3.0.0,>=2.13.0 in /usr/local/lib/python3.10/dist-packages (from spacy>=3.0.0->SpacyTextBlob) (2.32.3)\n",
            "Requirement already satisfied: pydantic!=1.8,!=1.8.1,<3.0.0,>=1.7.4 in /usr/local/lib/python3.10/dist-packages (from spacy>=3.0.0->SpacyTextBlob) (2.9.2)\n",
            "Requirement already satisfied: jinja2 in /usr/local/lib/python3.10/dist-packages (from spacy>=3.0.0->SpacyTextBlob) (3.1.4)\n",
            "Requirement already satisfied: setuptools in /usr/local/lib/python3.10/dist-packages (from spacy>=3.0.0->SpacyTextBlob) (75.1.0)\n",
            "Requirement already satisfied: packaging>=20.0 in /usr/local/lib/python3.10/dist-packages (from spacy>=3.0.0->SpacyTextBlob) (24.2)\n",
            "Requirement already satisfied: langcodes<4.0.0,>=3.2.0 in /usr/local/lib/python3.10/dist-packages (from spacy>=3.0.0->SpacyTextBlob) (3.4.1)\n",
            "Requirement already satisfied: numpy>=1.19.0 in /usr/local/lib/python3.10/dist-packages (from spacy>=3.0.0->SpacyTextBlob) (1.26.4)\n",
            "Requirement already satisfied: nltk>=3.8 in /usr/local/lib/python3.10/dist-packages (from textblob>=0.18.0.post0->SpacyTextBlob) (3.9.1)\n",
            "Requirement already satisfied: language-data>=1.2 in /usr/local/lib/python3.10/dist-packages (from langcodes<4.0.0,>=3.2.0->spacy>=3.0.0->SpacyTextBlob) (1.2.0)\n",
            "Requirement already satisfied: click in /usr/local/lib/python3.10/dist-packages (from nltk>=3.8->textblob>=0.18.0.post0->SpacyTextBlob) (8.1.7)\n",
            "Requirement already satisfied: joblib in /usr/local/lib/python3.10/dist-packages (from nltk>=3.8->textblob>=0.18.0.post0->SpacyTextBlob) (1.4.2)\n",
            "Requirement already satisfied: regex>=2021.8.3 in /usr/local/lib/python3.10/dist-packages (from nltk>=3.8->textblob>=0.18.0.post0->SpacyTextBlob) (2024.9.11)\n",
            "Requirement already satisfied: annotated-types>=0.6.0 in /usr/local/lib/python3.10/dist-packages (from pydantic!=1.8,!=1.8.1,<3.0.0,>=1.7.4->spacy>=3.0.0->SpacyTextBlob) (0.7.0)\n",
            "Requirement already satisfied: pydantic-core==2.23.4 in /usr/local/lib/python3.10/dist-packages (from pydantic!=1.8,!=1.8.1,<3.0.0,>=1.7.4->spacy>=3.0.0->SpacyTextBlob) (2.23.4)\n",
            "Requirement already satisfied: typing-extensions>=4.6.1 in /usr/local/lib/python3.10/dist-packages (from pydantic!=1.8,!=1.8.1,<3.0.0,>=1.7.4->spacy>=3.0.0->SpacyTextBlob) (4.12.2)\n",
            "Requirement already satisfied: charset-normalizer<4,>=2 in /usr/local/lib/python3.10/dist-packages (from requests<3.0.0,>=2.13.0->spacy>=3.0.0->SpacyTextBlob) (3.4.0)\n",
            "Requirement already satisfied: idna<4,>=2.5 in /usr/local/lib/python3.10/dist-packages (from requests<3.0.0,>=2.13.0->spacy>=3.0.0->SpacyTextBlob) (3.10)\n",
            "Requirement already satisfied: urllib3<3,>=1.21.1 in /usr/local/lib/python3.10/dist-packages (from requests<3.0.0,>=2.13.0->spacy>=3.0.0->SpacyTextBlob) (2.2.3)\n",
            "Requirement already satisfied: certifi>=2017.4.17 in /usr/local/lib/python3.10/dist-packages (from requests<3.0.0,>=2.13.0->spacy>=3.0.0->SpacyTextBlob) (2024.8.30)\n",
            "Requirement already satisfied: blis<0.8.0,>=0.7.8 in /usr/local/lib/python3.10/dist-packages (from thinc<8.3.0,>=8.2.2->spacy>=3.0.0->SpacyTextBlob) (0.7.11)\n",
            "Requirement already satisfied: confection<1.0.0,>=0.0.1 in /usr/local/lib/python3.10/dist-packages (from thinc<8.3.0,>=8.2.2->spacy>=3.0.0->SpacyTextBlob) (0.1.5)\n",
            "Requirement already satisfied: shellingham>=1.3.0 in /usr/local/lib/python3.10/dist-packages (from typer<1.0.0,>=0.3.0->spacy>=3.0.0->SpacyTextBlob) (1.5.4)\n",
            "Requirement already satisfied: rich>=10.11.0 in /usr/local/lib/python3.10/dist-packages (from typer<1.0.0,>=0.3.0->spacy>=3.0.0->SpacyTextBlob) (13.9.4)\n",
            "Requirement already satisfied: cloudpathlib<1.0.0,>=0.7.0 in /usr/local/lib/python3.10/dist-packages (from weasel<0.5.0,>=0.1.0->spacy>=3.0.0->SpacyTextBlob) (0.20.0)\n",
            "Requirement already satisfied: smart-open<8.0.0,>=5.2.1 in /usr/local/lib/python3.10/dist-packages (from weasel<0.5.0,>=0.1.0->spacy>=3.0.0->SpacyTextBlob) (7.0.5)\n",
            "Requirement already satisfied: MarkupSafe>=2.0 in /usr/local/lib/python3.10/dist-packages (from jinja2->spacy>=3.0.0->SpacyTextBlob) (3.0.2)\n",
            "Requirement already satisfied: marisa-trie>=0.7.7 in /usr/local/lib/python3.10/dist-packages (from language-data>=1.2->langcodes<4.0.0,>=3.2.0->spacy>=3.0.0->SpacyTextBlob) (1.2.1)\n",
            "Requirement already satisfied: markdown-it-py>=2.2.0 in /usr/local/lib/python3.10/dist-packages (from rich>=10.11.0->typer<1.0.0,>=0.3.0->spacy>=3.0.0->SpacyTextBlob) (3.0.0)\n",
            "Requirement already satisfied: pygments<3.0.0,>=2.13.0 in /usr/local/lib/python3.10/dist-packages (from rich>=10.11.0->typer<1.0.0,>=0.3.0->spacy>=3.0.0->SpacyTextBlob) (2.18.0)\n",
            "Requirement already satisfied: wrapt in /usr/local/lib/python3.10/dist-packages (from smart-open<8.0.0,>=5.2.1->weasel<0.5.0,>=0.1.0->spacy>=3.0.0->SpacyTextBlob) (1.16.0)\n",
            "Requirement already satisfied: mdurl~=0.1 in /usr/local/lib/python3.10/dist-packages (from markdown-it-py>=2.2.0->rich>=10.11.0->typer<1.0.0,>=0.3.0->spacy>=3.0.0->SpacyTextBlob) (0.1.2)\n",
            "Requirement already satisfied: textblob in /usr/local/lib/python3.10/dist-packages (0.18.0.post0)\n",
            "Requirement already satisfied: nltk>=3.8 in /usr/local/lib/python3.10/dist-packages (from textblob) (3.9.1)\n",
            "Requirement already satisfied: click in /usr/local/lib/python3.10/dist-packages (from nltk>=3.8->textblob) (8.1.7)\n",
            "Requirement already satisfied: joblib in /usr/local/lib/python3.10/dist-packages (from nltk>=3.8->textblob) (1.4.2)\n",
            "Requirement already satisfied: regex>=2021.8.3 in /usr/local/lib/python3.10/dist-packages (from nltk>=3.8->textblob) (2024.9.11)\n",
            "Requirement already satisfied: tqdm in /usr/local/lib/python3.10/dist-packages (from nltk>=3.8->textblob) (4.66.6)\n"
          ]
        }
      ]
    },
    {
      "cell_type": "code",
      "execution_count": 15,
      "metadata": {
        "colab": {
          "base_uri": "https://localhost:8080/",
          "height": 297
        },
        "id": "ultDn7CozaA5",
        "outputId": "4c3a9d15-fb85-4553-a075-bdf9de9f8fcd"
      },
      "outputs": [
        {
          "output_type": "error",
          "ename": "AttributeError",
          "evalue": "[E046] Can't retrieve unregistered extension attribute 'polarity'. Did you forget to call the `set_extension` method?",
          "traceback": [
            "\u001b[0;31m---------------------------------------------------------------------------\u001b[0m",
            "\u001b[0;31mAttributeError\u001b[0m                            Traceback (most recent call last)",
            "\u001b[0;32m<ipython-input-15-2fe23164d9d8>\u001b[0m in \u001b[0;36m<cell line: 16>\u001b[0;34m()\u001b[0m\n\u001b[1;32m     15\u001b[0m \u001b[0;34m\u001b[0m\u001b[0m\n\u001b[1;32m     16\u001b[0m \u001b[0;32mfor\u001b[0m \u001b[0msentence\u001b[0m \u001b[0;32min\u001b[0m \u001b[0msents\u001b[0m\u001b[0;34m[\u001b[0m\u001b[0;34m:\u001b[0m\u001b[0;36m10\u001b[0m\u001b[0;34m]\u001b[0m\u001b[0;34m:\u001b[0m\u001b[0;34m\u001b[0m\u001b[0;34m\u001b[0m\u001b[0m\n\u001b[0;32m---> 17\u001b[0;31m   \u001b[0mprint\u001b[0m\u001b[0;34m(\u001b[0m\u001b[0;34m\"Polarity: {0:3.2f}, Subjectivity: {1:3.2f}\"\u001b[0m\u001b[0;34m.\u001b[0m\u001b[0mformat\u001b[0m\u001b[0;34m(\u001b[0m\u001b[0msentence\u001b[0m\u001b[0;34m.\u001b[0m\u001b[0m_\u001b[0m\u001b[0;34m.\u001b[0m\u001b[0mpolarity\u001b[0m\u001b[0;34m,\u001b[0m \u001b[0msentence\u001b[0m\u001b[0;34m.\u001b[0m\u001b[0m_\u001b[0m\u001b[0;34m.\u001b[0m\u001b[0msubjectivity\u001b[0m\u001b[0;34m)\u001b[0m\u001b[0;34m)\u001b[0m\u001b[0;34m\u001b[0m\u001b[0;34m\u001b[0m\u001b[0m\n\u001b[0m",
            "\u001b[0;32m/usr/local/lib/python3.10/dist-packages/spacy/tokens/underscore.py\u001b[0m in \u001b[0;36m__getattr__\u001b[0;34m(self, name)\u001b[0m\n\u001b[1;32m     46\u001b[0m     \u001b[0;32mdef\u001b[0m \u001b[0m__getattr__\u001b[0m\u001b[0;34m(\u001b[0m\u001b[0mself\u001b[0m\u001b[0;34m,\u001b[0m \u001b[0mname\u001b[0m\u001b[0;34m:\u001b[0m \u001b[0mstr\u001b[0m\u001b[0;34m)\u001b[0m \u001b[0;34m->\u001b[0m \u001b[0mAny\u001b[0m\u001b[0;34m:\u001b[0m\u001b[0;34m\u001b[0m\u001b[0;34m\u001b[0m\u001b[0m\n\u001b[1;32m     47\u001b[0m         \u001b[0;32mif\u001b[0m \u001b[0mname\u001b[0m \u001b[0;32mnot\u001b[0m \u001b[0;32min\u001b[0m \u001b[0mself\u001b[0m\u001b[0;34m.\u001b[0m\u001b[0m_extensions\u001b[0m\u001b[0;34m:\u001b[0m\u001b[0;34m\u001b[0m\u001b[0;34m\u001b[0m\u001b[0m\n\u001b[0;32m---> 48\u001b[0;31m             \u001b[0;32mraise\u001b[0m \u001b[0mAttributeError\u001b[0m\u001b[0;34m(\u001b[0m\u001b[0mErrors\u001b[0m\u001b[0;34m.\u001b[0m\u001b[0mE046\u001b[0m\u001b[0;34m.\u001b[0m\u001b[0mformat\u001b[0m\u001b[0;34m(\u001b[0m\u001b[0mname\u001b[0m\u001b[0;34m=\u001b[0m\u001b[0mname\u001b[0m\u001b[0;34m)\u001b[0m\u001b[0;34m)\u001b[0m\u001b[0;34m\u001b[0m\u001b[0;34m\u001b[0m\u001b[0m\n\u001b[0m\u001b[1;32m     49\u001b[0m         \u001b[0mdefault\u001b[0m\u001b[0;34m,\u001b[0m \u001b[0mmethod\u001b[0m\u001b[0;34m,\u001b[0m \u001b[0mgetter\u001b[0m\u001b[0;34m,\u001b[0m \u001b[0msetter\u001b[0m \u001b[0;34m=\u001b[0m \u001b[0mself\u001b[0m\u001b[0;34m.\u001b[0m\u001b[0m_extensions\u001b[0m\u001b[0;34m[\u001b[0m\u001b[0mname\u001b[0m\u001b[0;34m]\u001b[0m\u001b[0;34m\u001b[0m\u001b[0;34m\u001b[0m\u001b[0m\n\u001b[1;32m     50\u001b[0m         \u001b[0;32mif\u001b[0m \u001b[0mgetter\u001b[0m \u001b[0;32mis\u001b[0m \u001b[0;32mnot\u001b[0m \u001b[0;32mNone\u001b[0m\u001b[0;34m:\u001b[0m\u001b[0;34m\u001b[0m\u001b[0;34m\u001b[0m\u001b[0m\n",
            "\u001b[0;31mAttributeError\u001b[0m: [E046] Can't retrieve unregistered extension attribute 'polarity'. Did you forget to call the `set_extension` method?"
          ]
        }
      ],
      "source": [
        "import spacy\n",
        "from spacytextblob.spacytextblob import SpacyTextBlob\n",
        "import requests\n",
        "\n",
        "jane = requests.get(\n",
        "\"https://github.com/dustywhite7/Econ8320/raw/master/AssignmentData/janeEyreCh1to3.txt\"\n",
        ").text\n",
        "\n",
        "nlp = spacy.load('en_core_web_sm')\n",
        "nlp.add_pipe('spacytextblob')\n",
        "\n",
        "blob = nlp(jane)\n",
        "\n",
        "sents = [i for i in blob.sents]\n",
        "\n",
        "for sentence in sents[:10]:\n",
        "  print(\"Polarity: {0:3.2f}, Subjectivity: {1:3.2f}\".format(sentence._.polarity, sentence._.subjectivity))"
      ]
    },
    {
      "cell_type": "markdown",
      "metadata": {
        "id": "ehYaEw5ezaA6"
      },
      "source": [
        "We can add code to our processing pipeline using the `nlp.add_pipe()` method on our `nlp` object. In this case, we are adding the sentiment analysis information created through `SpacyTextBlob`, but this can be literally anything. We can create any kind of function that we want to implement on our code, and can add that functionality to our pipeline in the same way. More examples are available in the `spacy` [documentation](https://spacy.io/usage/processing-pipelines#pipelines).\n",
        "\n",
        "If you want to get more in-depth with NLP, I highly recommend that you explore the course material available through `spacy`'s own NLP curriculum (freely available!): https://course.spacy.io/en/"
      ]
    },
    {
      "cell_type": "markdown",
      "metadata": {
        "id": "iHB3YUazzaA6"
      },
      "source": [
        "## Solve it!\n",
        "\n",
        "In this project, you will use the text from [chapters 44 and 45](https://github.com/dustywhite7/Econ8320/raw/refs/heads/master/AssignmentData/prideAndPrejudiceChapters.txt) of *Pride and Prejudice*. Please find the following information:\n",
        "\n",
        "- The number of sentences (store as `int` in a variable named `sentences`)\n",
        "- A list of all proper nouns used across the two chapters (stored as strings in the `names` variable)\n",
        "- A DataFrame containing a count of the top 20 adjectives used in the text (stored in the `adjectives` variable)\n",
        "    - Be sure to make all words lower case ONLY!\n",
        "- A bar chart of the top 20 adjectives used in the text stored in a variable called `fig`\n",
        "\n",
        "\n",
        "Place all of your code in the cell below, labeled `#si-exercise`."
      ]
    },
    {
      "cell_type": "code",
      "execution_count": 21,
      "metadata": {
        "nbgrader": {
          "grade": false,
          "grade_id": "cell-547fcaa92ad85918",
          "locked": false,
          "schema_version": 1,
          "solution": true
        },
        "colab": {
          "base_uri": "https://localhost:8080/",
          "height": 542
        },
        "id": "Up5mj5ByzaA6",
        "outputId": "d98604e1-2350-4af5-da0e-97dcb30ada8f"
      },
      "outputs": [
        {
          "output_type": "display_data",
          "data": {
            "text/html": [
              "<html>\n",
              "<head><meta charset=\"utf-8\" /></head>\n",
              "<body>\n",
              "    <div>            <script src=\"https://cdnjs.cloudflare.com/ajax/libs/mathjax/2.7.5/MathJax.js?config=TeX-AMS-MML_SVG\"></script><script type=\"text/javascript\">if (window.MathJax && window.MathJax.Hub && window.MathJax.Hub.Config) {window.MathJax.Hub.Config({SVG: {font: \"STIX-Web\"}});}</script>                <script type=\"text/javascript\">window.PlotlyConfig = {MathJaxConfig: 'local'};</script>\n",
              "        <script charset=\"utf-8\" src=\"https://cdn.plot.ly/plotly-2.35.2.min.js\"></script>                <div id=\"92989ca8-d2d5-43b9-9385-20c23a9c728f\" class=\"plotly-graph-div\" style=\"height:525px; width:100%;\"></div>            <script type=\"text/javascript\">                                    window.PLOTLYENV=window.PLOTLYENV || {};                                    if (document.getElementById(\"92989ca8-d2d5-43b9-9385-20c23a9c728f\")) {                    Plotly.newPlot(                        \"92989ca8-d2d5-43b9-9385-20c23a9c728f\",                        [{\"alignmentgroup\":\"True\",\"hovertemplate\":\"Adjectives=%{x}\\u003cbr\\u003eFrequency=%{text}\\u003cextra\\u003e\\u003c\\u002fextra\\u003e\",\"legendgroup\":\"\",\"marker\":{\"color\":\"#636efa\",\"pattern\":{\"shape\":\"\"}},\"name\":\"\",\"offsetgroup\":\"\",\"orientation\":\"v\",\"showlegend\":false,\"text\":[7.0,7.0,7.0,6.0,6.0,6.0,5.0,5.0,4.0,4.0,4.0,4.0,4.0,4.0,4.0,3.0,3.0,3.0,3.0,3.0],\"textposition\":\"outside\",\"x\":[\"own\",\"much\",\"more\",\"other\",\"such\",\"little\",\"very\",\"many\",\"anxious\",\"least\",\"good\",\"whole\",\"pleased\",\"last\",\"great\",\"new\",\"few\",\"lively\",\"evident\",\"eager\"],\"xaxis\":\"x\",\"y\":[7,7,7,6,6,6,5,5,4,4,4,4,4,4,4,3,3,3,3,3],\"yaxis\":\"y\",\"type\":\"bar\"}],                        {\"template\":{\"data\":{\"barpolar\":[{\"marker\":{\"line\":{\"color\":\"white\",\"width\":0.5},\"pattern\":{\"fillmode\":\"overlay\",\"size\":10,\"solidity\":0.2}},\"type\":\"barpolar\"}],\"bar\":[{\"error_x\":{\"color\":\"#2a3f5f\"},\"error_y\":{\"color\":\"#2a3f5f\"},\"marker\":{\"line\":{\"color\":\"white\",\"width\":0.5},\"pattern\":{\"fillmode\":\"overlay\",\"size\":10,\"solidity\":0.2}},\"type\":\"bar\"}],\"carpet\":[{\"aaxis\":{\"endlinecolor\":\"#2a3f5f\",\"gridcolor\":\"#C8D4E3\",\"linecolor\":\"#C8D4E3\",\"minorgridcolor\":\"#C8D4E3\",\"startlinecolor\":\"#2a3f5f\"},\"baxis\":{\"endlinecolor\":\"#2a3f5f\",\"gridcolor\":\"#C8D4E3\",\"linecolor\":\"#C8D4E3\",\"minorgridcolor\":\"#C8D4E3\",\"startlinecolor\":\"#2a3f5f\"},\"type\":\"carpet\"}],\"choropleth\":[{\"colorbar\":{\"outlinewidth\":0,\"ticks\":\"\"},\"type\":\"choropleth\"}],\"contourcarpet\":[{\"colorbar\":{\"outlinewidth\":0,\"ticks\":\"\"},\"type\":\"contourcarpet\"}],\"contour\":[{\"colorbar\":{\"outlinewidth\":0,\"ticks\":\"\"},\"colorscale\":[[0.0,\"#0d0887\"],[0.1111111111111111,\"#46039f\"],[0.2222222222222222,\"#7201a8\"],[0.3333333333333333,\"#9c179e\"],[0.4444444444444444,\"#bd3786\"],[0.5555555555555556,\"#d8576b\"],[0.6666666666666666,\"#ed7953\"],[0.7777777777777778,\"#fb9f3a\"],[0.8888888888888888,\"#fdca26\"],[1.0,\"#f0f921\"]],\"type\":\"contour\"}],\"heatmapgl\":[{\"colorbar\":{\"outlinewidth\":0,\"ticks\":\"\"},\"colorscale\":[[0.0,\"#0d0887\"],[0.1111111111111111,\"#46039f\"],[0.2222222222222222,\"#7201a8\"],[0.3333333333333333,\"#9c179e\"],[0.4444444444444444,\"#bd3786\"],[0.5555555555555556,\"#d8576b\"],[0.6666666666666666,\"#ed7953\"],[0.7777777777777778,\"#fb9f3a\"],[0.8888888888888888,\"#fdca26\"],[1.0,\"#f0f921\"]],\"type\":\"heatmapgl\"}],\"heatmap\":[{\"colorbar\":{\"outlinewidth\":0,\"ticks\":\"\"},\"colorscale\":[[0.0,\"#0d0887\"],[0.1111111111111111,\"#46039f\"],[0.2222222222222222,\"#7201a8\"],[0.3333333333333333,\"#9c179e\"],[0.4444444444444444,\"#bd3786\"],[0.5555555555555556,\"#d8576b\"],[0.6666666666666666,\"#ed7953\"],[0.7777777777777778,\"#fb9f3a\"],[0.8888888888888888,\"#fdca26\"],[1.0,\"#f0f921\"]],\"type\":\"heatmap\"}],\"histogram2dcontour\":[{\"colorbar\":{\"outlinewidth\":0,\"ticks\":\"\"},\"colorscale\":[[0.0,\"#0d0887\"],[0.1111111111111111,\"#46039f\"],[0.2222222222222222,\"#7201a8\"],[0.3333333333333333,\"#9c179e\"],[0.4444444444444444,\"#bd3786\"],[0.5555555555555556,\"#d8576b\"],[0.6666666666666666,\"#ed7953\"],[0.7777777777777778,\"#fb9f3a\"],[0.8888888888888888,\"#fdca26\"],[1.0,\"#f0f921\"]],\"type\":\"histogram2dcontour\"}],\"histogram2d\":[{\"colorbar\":{\"outlinewidth\":0,\"ticks\":\"\"},\"colorscale\":[[0.0,\"#0d0887\"],[0.1111111111111111,\"#46039f\"],[0.2222222222222222,\"#7201a8\"],[0.3333333333333333,\"#9c179e\"],[0.4444444444444444,\"#bd3786\"],[0.5555555555555556,\"#d8576b\"],[0.6666666666666666,\"#ed7953\"],[0.7777777777777778,\"#fb9f3a\"],[0.8888888888888888,\"#fdca26\"],[1.0,\"#f0f921\"]],\"type\":\"histogram2d\"}],\"histogram\":[{\"marker\":{\"pattern\":{\"fillmode\":\"overlay\",\"size\":10,\"solidity\":0.2}},\"type\":\"histogram\"}],\"mesh3d\":[{\"colorbar\":{\"outlinewidth\":0,\"ticks\":\"\"},\"type\":\"mesh3d\"}],\"parcoords\":[{\"line\":{\"colorbar\":{\"outlinewidth\":0,\"ticks\":\"\"}},\"type\":\"parcoords\"}],\"pie\":[{\"automargin\":true,\"type\":\"pie\"}],\"scatter3d\":[{\"line\":{\"colorbar\":{\"outlinewidth\":0,\"ticks\":\"\"}},\"marker\":{\"colorbar\":{\"outlinewidth\":0,\"ticks\":\"\"}},\"type\":\"scatter3d\"}],\"scattercarpet\":[{\"marker\":{\"colorbar\":{\"outlinewidth\":0,\"ticks\":\"\"}},\"type\":\"scattercarpet\"}],\"scattergeo\":[{\"marker\":{\"colorbar\":{\"outlinewidth\":0,\"ticks\":\"\"}},\"type\":\"scattergeo\"}],\"scattergl\":[{\"marker\":{\"colorbar\":{\"outlinewidth\":0,\"ticks\":\"\"}},\"type\":\"scattergl\"}],\"scattermapbox\":[{\"marker\":{\"colorbar\":{\"outlinewidth\":0,\"ticks\":\"\"}},\"type\":\"scattermapbox\"}],\"scatterpolargl\":[{\"marker\":{\"colorbar\":{\"outlinewidth\":0,\"ticks\":\"\"}},\"type\":\"scatterpolargl\"}],\"scatterpolar\":[{\"marker\":{\"colorbar\":{\"outlinewidth\":0,\"ticks\":\"\"}},\"type\":\"scatterpolar\"}],\"scatter\":[{\"fillpattern\":{\"fillmode\":\"overlay\",\"size\":10,\"solidity\":0.2},\"type\":\"scatter\"}],\"scatterternary\":[{\"marker\":{\"colorbar\":{\"outlinewidth\":0,\"ticks\":\"\"}},\"type\":\"scatterternary\"}],\"surface\":[{\"colorbar\":{\"outlinewidth\":0,\"ticks\":\"\"},\"colorscale\":[[0.0,\"#0d0887\"],[0.1111111111111111,\"#46039f\"],[0.2222222222222222,\"#7201a8\"],[0.3333333333333333,\"#9c179e\"],[0.4444444444444444,\"#bd3786\"],[0.5555555555555556,\"#d8576b\"],[0.6666666666666666,\"#ed7953\"],[0.7777777777777778,\"#fb9f3a\"],[0.8888888888888888,\"#fdca26\"],[1.0,\"#f0f921\"]],\"type\":\"surface\"}],\"table\":[{\"cells\":{\"fill\":{\"color\":\"#EBF0F8\"},\"line\":{\"color\":\"white\"}},\"header\":{\"fill\":{\"color\":\"#C8D4E3\"},\"line\":{\"color\":\"white\"}},\"type\":\"table\"}]},\"layout\":{\"annotationdefaults\":{\"arrowcolor\":\"#2a3f5f\",\"arrowhead\":0,\"arrowwidth\":1},\"autotypenumbers\":\"strict\",\"coloraxis\":{\"colorbar\":{\"outlinewidth\":0,\"ticks\":\"\"}},\"colorscale\":{\"diverging\":[[0,\"#8e0152\"],[0.1,\"#c51b7d\"],[0.2,\"#de77ae\"],[0.3,\"#f1b6da\"],[0.4,\"#fde0ef\"],[0.5,\"#f7f7f7\"],[0.6,\"#e6f5d0\"],[0.7,\"#b8e186\"],[0.8,\"#7fbc41\"],[0.9,\"#4d9221\"],[1,\"#276419\"]],\"sequential\":[[0.0,\"#0d0887\"],[0.1111111111111111,\"#46039f\"],[0.2222222222222222,\"#7201a8\"],[0.3333333333333333,\"#9c179e\"],[0.4444444444444444,\"#bd3786\"],[0.5555555555555556,\"#d8576b\"],[0.6666666666666666,\"#ed7953\"],[0.7777777777777778,\"#fb9f3a\"],[0.8888888888888888,\"#fdca26\"],[1.0,\"#f0f921\"]],\"sequentialminus\":[[0.0,\"#0d0887\"],[0.1111111111111111,\"#46039f\"],[0.2222222222222222,\"#7201a8\"],[0.3333333333333333,\"#9c179e\"],[0.4444444444444444,\"#bd3786\"],[0.5555555555555556,\"#d8576b\"],[0.6666666666666666,\"#ed7953\"],[0.7777777777777778,\"#fb9f3a\"],[0.8888888888888888,\"#fdca26\"],[1.0,\"#f0f921\"]]},\"colorway\":[\"#636efa\",\"#EF553B\",\"#00cc96\",\"#ab63fa\",\"#FFA15A\",\"#19d3f3\",\"#FF6692\",\"#B6E880\",\"#FF97FF\",\"#FECB52\"],\"font\":{\"color\":\"#2a3f5f\"},\"geo\":{\"bgcolor\":\"white\",\"lakecolor\":\"white\",\"landcolor\":\"white\",\"showlakes\":true,\"showland\":true,\"subunitcolor\":\"#C8D4E3\"},\"hoverlabel\":{\"align\":\"left\"},\"hovermode\":\"closest\",\"mapbox\":{\"style\":\"light\"},\"paper_bgcolor\":\"white\",\"plot_bgcolor\":\"white\",\"polar\":{\"angularaxis\":{\"gridcolor\":\"#EBF0F8\",\"linecolor\":\"#EBF0F8\",\"ticks\":\"\"},\"bgcolor\":\"white\",\"radialaxis\":{\"gridcolor\":\"#EBF0F8\",\"linecolor\":\"#EBF0F8\",\"ticks\":\"\"}},\"scene\":{\"xaxis\":{\"backgroundcolor\":\"white\",\"gridcolor\":\"#DFE8F3\",\"gridwidth\":2,\"linecolor\":\"#EBF0F8\",\"showbackground\":true,\"ticks\":\"\",\"zerolinecolor\":\"#EBF0F8\"},\"yaxis\":{\"backgroundcolor\":\"white\",\"gridcolor\":\"#DFE8F3\",\"gridwidth\":2,\"linecolor\":\"#EBF0F8\",\"showbackground\":true,\"ticks\":\"\",\"zerolinecolor\":\"#EBF0F8\"},\"zaxis\":{\"backgroundcolor\":\"white\",\"gridcolor\":\"#DFE8F3\",\"gridwidth\":2,\"linecolor\":\"#EBF0F8\",\"showbackground\":true,\"ticks\":\"\",\"zerolinecolor\":\"#EBF0F8\"}},\"shapedefaults\":{\"line\":{\"color\":\"#2a3f5f\"}},\"ternary\":{\"aaxis\":{\"gridcolor\":\"#DFE8F3\",\"linecolor\":\"#A2B1C6\",\"ticks\":\"\"},\"baxis\":{\"gridcolor\":\"#DFE8F3\",\"linecolor\":\"#A2B1C6\",\"ticks\":\"\"},\"bgcolor\":\"white\",\"caxis\":{\"gridcolor\":\"#DFE8F3\",\"linecolor\":\"#A2B1C6\",\"ticks\":\"\"}},\"title\":{\"x\":0.05},\"xaxis\":{\"automargin\":true,\"gridcolor\":\"#EBF0F8\",\"linecolor\":\"#EBF0F8\",\"ticks\":\"\",\"title\":{\"standoff\":15},\"zerolinecolor\":\"#EBF0F8\",\"zerolinewidth\":2},\"yaxis\":{\"automargin\":true,\"gridcolor\":\"#EBF0F8\",\"linecolor\":\"#EBF0F8\",\"ticks\":\"\",\"title\":{\"standoff\":15},\"zerolinecolor\":\"#EBF0F8\",\"zerolinewidth\":2}}},\"xaxis\":{\"anchor\":\"y\",\"domain\":[0.0,1.0],\"title\":{\"text\":\"Adjectives\"},\"tickangle\":45},\"yaxis\":{\"anchor\":\"x\",\"domain\":[0.0,1.0],\"title\":{\"text\":\"Frequency\"}},\"legend\":{\"tracegroupgap\":0},\"title\":{\"text\":\"Top 20 Adjectives in Pride and Prejudice Chapters\"},\"barmode\":\"relative\"},                        {\"responsive\": true}                    ).then(function(){\n",
              "                            \n",
              "var gd = document.getElementById('92989ca8-d2d5-43b9-9385-20c23a9c728f');\n",
              "var x = new MutationObserver(function (mutations, observer) {{\n",
              "        var display = window.getComputedStyle(gd).display;\n",
              "        if (!display || display === 'none') {{\n",
              "            console.log([gd, 'removed!']);\n",
              "            Plotly.purge(gd);\n",
              "            observer.disconnect();\n",
              "        }}\n",
              "}});\n",
              "\n",
              "// Listen for the removal of the full notebook cells\n",
              "var notebookContainer = gd.closest('#notebook-container');\n",
              "if (notebookContainer) {{\n",
              "    x.observe(notebookContainer, {childList: true});\n",
              "}}\n",
              "\n",
              "// Listen for the clearing of the current output cell\n",
              "var outputEl = gd.closest('.output');\n",
              "if (outputEl) {{\n",
              "    x.observe(outputEl, {childList: true});\n",
              "}}\n",
              "\n",
              "                        })                };                            </script>        </div>\n",
              "</body>\n",
              "</html>"
            ]
          },
          "metadata": {}
        }
      ],
      "source": [
        "#si-exercise\n",
        "import requests\n",
        "import pandas as pd\n",
        "import plotly.express as px\n",
        "import spacy\n",
        "from collections import Counter\n",
        "\n",
        "# Load spaCy model\n",
        "nlp = spacy.load(\"en_core_web_sm\")\n",
        "\n",
        "# Fetch the text data from the URL\n",
        "url = \"https://github.com/dustywhite7/Econ8320/raw/refs/heads/master/AssignmentData/prideAndPrejudiceChapters.txt\"\n",
        "response = requests.get(url)\n",
        "text = response.text\n",
        "\n",
        "# Process the text with spaCy\n",
        "doc = nlp(text)\n",
        "\n",
        "# 1. Count the number of sentences\n",
        "sentences = len(list(doc.sents))\n",
        "\n",
        "# 2. Extract all proper nouns (proper nouns are tagged as 'PROPN')\n",
        "names = sorted(set([token.text for token in doc if token.pos_ == \"PROPN\"]))\n",
        "\n",
        "# 3. Count the top 20 adjectives (adjectives are tagged as 'ADJ')\n",
        "adjectives = [token.text.lower() for token in doc if token.pos_ == \"ADJ\"]\n",
        "adjective_counts = Counter(adjectives).most_common(20)\n",
        "\n",
        "# Convert the adjective counts into a DataFrame\n",
        "adjectives = pd.DataFrame(adjective_counts, columns=[\"Adjective\", \"Count\"])\n",
        "\n",
        "# 4. Create a bar chart of the top 20 adjectives using Plotly\n",
        "fig = px.bar(\n",
        "    adjectives,\n",
        "    x=\"Adjective\",\n",
        "    y=\"Count\",\n",
        "    title=\"Top 20 Adjectives in Pride and Prejudice Chapters\",\n",
        "    labels={\"Count\": \"Frequency\", \"Adjective\": \"Adjectives\"},\n",
        "    text=\"Count\"\n",
        ")\n",
        "fig.update_traces(textposition=\"outside\")\n",
        "fig.update_layout(xaxis=dict(tickangle=45), template=\"plotly_white\")\n",
        "fig.show()\n",
        "\n",
        "\n"
      ]
    }
  ],
  "metadata": {
    "celltoolbar": "Create Assignment",
    "kernelspec": {
      "display_name": "Python 3 (ipykernel)",
      "language": "python",
      "name": "python3"
    },
    "language_info": {
      "codemirror_mode": {
        "name": "ipython",
        "version": 3
      },
      "file_extension": ".py",
      "mimetype": "text/x-python",
      "name": "python",
      "nbconvert_exporter": "python",
      "pygments_lexer": "ipython3",
      "version": "3.9.13"
    },
    "colab": {
      "provenance": [],
      "toc_visible": true
    }
  },
  "nbformat": 4,
  "nbformat_minor": 0
}